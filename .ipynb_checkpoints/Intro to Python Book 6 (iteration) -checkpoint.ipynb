{
 "cells": [
  {
   "cell_type": "markdown",
   "metadata": {},
   "source": [
    "<img src=\"./intro_images/MIE.PNG\" width=\"100%\" align=\"left\" />"
   ]
  },
  {
   "cell_type": "markdown",
   "metadata": {},
   "source": [
    "<table style=\"float:right;\">\n",
    "    <tr>\n",
    "        <td>                      \n",
    "            <div style=\"text-align: right\"><a href=\"https://alandavies.netlify.com\" target=\"_blank\">Dr Alan Davies</a></div>\n",
    "            <div style=\"text-align: right\">Senior Lecturer Health Data Science</div>\n",
    "            <div style=\"text-align: right\">University of Manchester</div>\n",
    "         </td>\n",
    "         <td>\n",
    "             <img src=\"./intro_images/alan.PNG\" width=\"30%\" />\n",
    "         </td>\n",
    "     </tr>\n",
    "</table>"
   ]
  },
  {
   "cell_type": "markdown",
   "metadata": {},
   "source": [
    "# 6.0 Iteration\n",
    "****"
   ]
  },
  {
   "cell_type": "markdown",
   "metadata": {},
   "source": [
    "#### About this Notebook\n",
    "This notebook introduces the concept iteration - using loops to repeat blocks of code for a certain number of times or until a certain condition is met. This is often used with data structures to apply operations/computation to data held within them."
   ]
  },
  {
   "cell_type": "markdown",
   "metadata": {},
   "source": [
    "<div class=\"alert alert-block alert-warning\"><b>Learning Objectives:</b> \n",
    "<br/> At the end of this notebook you will be able to:\n",
    "    \n",
    "- Investigate key loops available in Python (for and while)\n",
    "\n",
    "- Explore how these can be used to iterate over data structures\n",
    "\n",
    "</div> "
   ]
  },
  {
   "cell_type": "markdown",
   "metadata": {},
   "source": [
    "<a id=\"top\"></a>\n",
    "\n",
    "<b>Table of contents</b><br>\n",
    "\n",
    "6.1 [For loops](#for)\n",
    "\n",
    "6.2 [While loops](#while)"
   ]
  },
  {
   "cell_type": "markdown",
   "metadata": {},
   "source": [
    "Now we have seen data structures such as lists and dictionaries it makes sense to look at iteration as these concepts are often used together to exploit the power of such data structures. Iteration is a way of saying doing something over and over again or in a <code>loop</code>. This is useful when we want to do things like a repeat an operation a number of times or traverse through data structures like lists. Let's look at an example of this. Let's say we have a list of medical procedures that we offer in our hospital cardiac catheterization lab:"
   ]
  },
  {
   "cell_type": "code",
   "execution_count": 14,
   "metadata": {
    "collapsed": true
   },
   "outputs": [],
   "source": [
    "cathlab_procedures = ['angiogram', \n",
    "                      'pacemaker insertion', \n",
    "                      'electrophysiological studies', \n",
    "                      'transoesophageal echocardiogram',\n",
    "                      'Percutaneous Coronary Intervention',\n",
    "                      'AICD insertion',\n",
    "                      'reveal monitor insertion']"
   ]
  },
  {
   "cell_type": "markdown",
   "metadata": {},
   "source": [
    "We can list them one by one as before using the elements index:"
   ]
  },
  {
   "cell_type": "code",
   "execution_count": 3,
   "metadata": {},
   "outputs": [
    {
     "data": {
      "text/plain": [
       "'AICD insertion'"
      ]
     },
     "execution_count": 3,
     "metadata": {},
     "output_type": "execute_result"
    }
   ],
   "source": [
    "cathlab_procedures[5]"
   ]
  },
  {
   "cell_type": "markdown",
   "metadata": {},
   "source": [
    "Doing this item at a time would be extremely time consuming. Also what if we offered 250 procedures? Instead we can use a <code>loop</code> to go through each item and print the result."
   ]
  },
  {
   "cell_type": "markdown",
   "metadata": {},
   "source": [
    "<a id=\"for\"></a>\n",
    "#### 6.1 For loops"
   ]
  },
  {
   "cell_type": "code",
   "execution_count": 4,
   "metadata": {},
   "outputs": [
    {
     "name": "stdout",
     "output_type": "stream",
     "text": [
      "The procedures we offer are:\n",
      "angiogram\n",
      "pacemaker insertion\n",
      "electrophysiological studies\n",
      "transoesophageal echocardiogram\n",
      "Percutaneous Coronary Intervention\n",
      "AICD insertion\n",
      "reveal monitor insertion\n"
     ]
    }
   ],
   "source": [
    "print(\"The procedures we offer are:\")\n",
    "\n",
    "for procedure in cathlab_procedures:\n",
    "    print(procedure)"
   ]
  },
  {
   "cell_type": "markdown",
   "metadata": {},
   "source": [
    "Here we use the <code>for</code> keyword to create a loop for every procedure in our list. All the code indented on the next line is contained within the loop. We can use loops to repeat items. Here is an example of saying hello 5 times using the <code>range()</code> function."
   ]
  },
  {
   "cell_type": "code",
   "execution_count": 5,
   "metadata": {},
   "outputs": [
    {
     "name": "stdout",
     "output_type": "stream",
     "text": [
      "Hello\n",
      "Hello\n",
      "Hello\n",
      "Hello\n",
      "Hello\n"
     ]
    }
   ],
   "source": [
    "for i in range(5):\n",
    "    print(\"Hello\")"
   ]
  },
  {
   "cell_type": "markdown",
   "metadata": {},
   "source": [
    "Each time the loop repeats it automatically adds to the loop counter variable (in this case called <code>i</code>). This is called <code>incrementation</code> (the opposite is <code>decrementing</code>). We can see this in action if we print the value if <code>i</code> in the loop:"
   ]
  },
  {
   "cell_type": "code",
   "execution_count": 7,
   "metadata": {},
   "outputs": [
    {
     "name": "stdout",
     "output_type": "stream",
     "text": [
      "i = 0\n",
      "i = 1\n",
      "i = 2\n",
      "i = 3\n",
      "i = 4\n"
     ]
    }
   ],
   "source": [
    "for i in range(5):\n",
    "    print(\"i =\", i)"
   ]
  },
  {
   "cell_type": "markdown",
   "metadata": {},
   "source": [
    "<div class=\"alert alert-success\">\n",
    "<b>Note:</b> Like with lists, the <code>range()</code> function starts at <code>0</code> by default, so <code>5</code> is <code>0</code> to <code>4</code> and <code>not</code> <code>1 to 5</code>.  \n",
    "</div>"
   ]
  },
  {
   "cell_type": "markdown",
   "metadata": {
    "solution2": "hidden",
    "solution2_first": true
   },
   "source": [
    "<div class=\"alert alert-block alert-info\">\n",
    "<b>Task 1:</b>\n",
    "<br> \n",
    "Write a loop that prints your name 10 times.\n",
    "</div>"
   ]
  },
  {
   "cell_type": "code",
   "execution_count": 8,
   "metadata": {
    "solution2": "hidden"
   },
   "outputs": [
    {
     "name": "stdout",
     "output_type": "stream",
     "text": [
      "your name\n",
      "your name\n",
      "your name\n",
      "your name\n",
      "your name\n",
      "your name\n",
      "your name\n",
      "your name\n",
      "your name\n",
      "your name\n"
     ]
    }
   ],
   "source": [
    "for i in range(10):\n",
    "    print(\"your name\")"
   ]
  },
  {
   "cell_type": "code",
   "execution_count": null,
   "metadata": {
    "collapsed": true
   },
   "outputs": [],
   "source": []
  },
  {
   "cell_type": "markdown",
   "metadata": {},
   "source": [
    "We have 7 items in our list of procedures above so we could also write:"
   ]
  },
  {
   "cell_type": "code",
   "execution_count": 9,
   "metadata": {},
   "outputs": [
    {
     "name": "stdout",
     "output_type": "stream",
     "text": [
      "angiogram\n",
      "pacemaker insertion\n",
      "electrophysiological studies\n",
      "transoesophageal echocardiogram\n",
      "Percutaneous Coronary Intervention\n",
      "AICD insertion\n",
      "reveal monitor insertion\n"
     ]
    }
   ],
   "source": [
    "for i in range(7):\n",
    "    print(cathlab_procedures[i])"
   ]
  },
  {
   "cell_type": "markdown",
   "metadata": {
    "solution2": "shown",
    "solution2_first": true
   },
   "source": [
    "<div class=\"alert alert-block alert-info\">\n",
    "<b>Task 2:</b>\n",
    "<br> \n",
    "1. Can you think of a reason why putting the number 7 in the range might not be best practice? <br />\n",
    "2. How might we resolve this?\n",
    "</div>"
   ]
  },
  {
   "cell_type": "markdown",
   "metadata": {
    "solution2": "shown"
   },
   "source": [
    "**1.** This would not be good practice because we could add or remove items from our procedures which would cause an error if we try to access an element in the list that doesn't exist. Alternatively if we added extra items (above 7) we wouldn't see them output as the loop would stop at 7."
   ]
  },
  {
   "cell_type": "markdown",
   "metadata": {
    "solution2": "shown"
   },
   "source": [
    "**2.** We could use the <code>len()</code> function to work out the exact length of the list so we only loop over items that actually exist. Alternatively we could use the <code>for ... in</code> method shown above."
   ]
  },
  {
   "cell_type": "markdown",
   "metadata": {},
   "source": [
    "Let's add another item to our procedures and output the values again:"
   ]
  },
  {
   "cell_type": "code",
   "execution_count": 15,
   "metadata": {
    "collapsed": true
   },
   "outputs": [],
   "source": [
    "cathlab_procedures.append(\"cox maze\")"
   ]
  },
  {
   "cell_type": "code",
   "execution_count": 16,
   "metadata": {},
   "outputs": [
    {
     "name": "stdout",
     "output_type": "stream",
     "text": [
      "angiogram\n",
      "pacemaker insertion\n",
      "electrophysiological studies\n",
      "transoesophageal echocardiogram\n",
      "Percutaneous Coronary Intervention\n",
      "AICD insertion\n",
      "reveal monitor insertion\n"
     ]
    }
   ],
   "source": [
    "for i in range(7):\n",
    "    print(cathlab_procedures[i])"
   ]
  },
  {
   "cell_type": "markdown",
   "metadata": {},
   "source": [
    "Here we are missing the last item. So it is good practice to do this as we did in the first instance or by using the <code>len()</code> function."
   ]
  },
  {
   "cell_type": "code",
   "execution_count": 17,
   "metadata": {},
   "outputs": [
    {
     "name": "stdout",
     "output_type": "stream",
     "text": [
      "angiogram\n",
      "pacemaker insertion\n",
      "electrophysiological studies\n",
      "transoesophageal echocardiogram\n",
      "Percutaneous Coronary Intervention\n",
      "AICD insertion\n",
      "reveal monitor insertion\n",
      "cox maze\n"
     ]
    }
   ],
   "source": [
    "for i in range(len(cathlab_procedures)):\n",
    "    print(cathlab_procedures[i])"
   ]
  },
  {
   "cell_type": "markdown",
   "metadata": {},
   "source": [
    "A short hand way of ensuring that you only output values that exist is:"
   ]
  },
  {
   "cell_type": "code",
   "execution_count": 20,
   "metadata": {},
   "outputs": [
    {
     "name": "stdout",
     "output_type": "stream",
     "text": [
      "angiogram\n",
      "pacemaker insertion\n",
      "electrophysiological studies\n",
      "transoesophageal echocardiogram\n",
      "Percutaneous Coronary Intervention\n",
      "AICD insertion\n",
      "reveal monitor insertion\n",
      "cox maze\n"
     ]
    }
   ],
   "source": [
    "for procedure in cathlab_procedures:\n",
    "    print(procedure)"
   ]
  },
  {
   "cell_type": "markdown",
   "metadata": {},
   "source": [
    "<div class=\"alert alert-success\">\n",
    "<b>Note:</b> Using the <code>for ... in</code> is best practice in Python. The option above of looping with range is how loops work in most other programming languages. These tend to have an initialisation statement, a condition that must be met and an incrementation statement for example in the C language <code>for(i=0; i&lt;10; i++){ }</code>.  \n",
    "</div>"
   ]
  },
  {
   "cell_type": "markdown",
   "metadata": {},
   "source": [
    "Using loops allows us to perform operations on entire lists (and other data structures). Let's say we had some working hours and we needed to reduce everyone's working hours by a single hour. We can use iteration to loop over the list and carry out this operation on each element:"
   ]
  },
  {
   "cell_type": "code",
   "execution_count": 1,
   "metadata": {},
   "outputs": [
    {
     "name": "stdout",
     "output_type": "stream",
     "text": [
      "[7.5, 8, 11, 5, 5.5, 7.5, 11, 11, 8]\n"
     ]
    }
   ],
   "source": [
    "hours_worked = [8.5, 9, 12, 6, 6.5, 8.5, 12, 12, 9]\n",
    "for i in range(len(hours_worked)):\n",
    "    hours_worked[i] = hours_worked[i] - 1\n",
    "    \n",
    "print(hours_worked)"
   ]
  },
  {
   "cell_type": "markdown",
   "metadata": {},
   "source": [
    "We can also loop through a structure backwards as well as forwards. In the second loop we add a few more parameters to the <code>range()</code>. These include the start value, the finish value and the step (-1 each time)."
   ]
  },
  {
   "cell_type": "code",
   "execution_count": 13,
   "metadata": {},
   "outputs": [
    {
     "name": "stdout",
     "output_type": "stream",
     "text": [
      "Looping forward:\n",
      "1\n",
      "2\n",
      "3\n",
      "4\n",
      "5\n",
      "Looping backward:\n",
      "5\n",
      "4\n",
      "3\n",
      "2\n",
      "1\n"
     ]
    }
   ],
   "source": [
    "a = [1, 2, 3, 4, 5]\n",
    "\n",
    "print(\"Looping forward:\")\n",
    "for i in range(len(a)):\n",
    "    print(a[i])\n",
    "\n",
    "print(\"Looping backward:\")\n",
    "for i in range(len(a)-1, -1, -1):\n",
    "    print(a[i])"
   ]
  },
  {
   "cell_type": "markdown",
   "metadata": {},
   "source": [
    "Python has the ability to use nested <code>list comprehensions</code>. This means you can put a loop inside the square brackets of a list. This is efficient in terms of reducing lines of code, but is much less readable, especially for programmers less familiar with Python. You need to weigh up the advantages and disadvantages of this approach. For example consider we have a list of strings that we want to convert to numbers, say heart rate values."
   ]
  },
  {
   "cell_type": "code",
   "execution_count": 16,
   "metadata": {},
   "outputs": [
    {
     "data": {
      "text/plain": [
       "str"
      ]
     },
     "execution_count": 16,
     "metadata": {},
     "output_type": "execute_result"
    }
   ],
   "source": [
    "hr_values = ['78', '80', '102', '65', '67']\n",
    "type(hr_values[0])"
   ]
  },
  {
   "cell_type": "markdown",
   "metadata": {},
   "source": [
    "We could write:"
   ]
  },
  {
   "cell_type": "code",
   "execution_count": 17,
   "metadata": {},
   "outputs": [
    {
     "data": {
      "text/plain": [
       "int"
      ]
     },
     "execution_count": 17,
     "metadata": {},
     "output_type": "execute_result"
    }
   ],
   "source": [
    "converted_hr_values = []\n",
    "for i in hr_values:\n",
    "    converted_hr_values.append(int(i))\n",
    "    \n",
    "type(converted_hr_values[0])"
   ]
  },
  {
   "cell_type": "markdown",
   "metadata": {},
   "source": [
    "Instead we could write it like this:"
   ]
  },
  {
   "cell_type": "code",
   "execution_count": 18,
   "metadata": {},
   "outputs": [
    {
     "data": {
      "text/plain": [
       "int"
      ]
     },
     "execution_count": 18,
     "metadata": {},
     "output_type": "execute_result"
    }
   ],
   "source": [
    "converted_hr_values = [int(i) for i in hr_values]\n",
    "type(converted_hr_values[0])"
   ]
  },
  {
   "cell_type": "markdown",
   "metadata": {},
   "source": [
    "<div class=\"alert alert-success\">\n",
    "<b>Note:</b> Although the above is more efficient in terms of lines of code written, it might be harder to understand intuitively and so you need to weigh up readability vs efficiency in your code style.\n",
    "</div>"
   ]
  },
  {
   "cell_type": "markdown",
   "metadata": {},
   "source": [
    "Loops can also be nested, so one loop can contain may more. We have seen how we can use a single loop to loop through a list. We can also use a loop within a loop to loop through something more complex like a matrix for example. A matrix is a mathematical construct that is similar to a table of data. Python doesn't have an inbuilt matrix type. This can be achieved with nested lists (although there are libraries for this such as <code>numpy</code> and <code>scipy</code>). So if we wanted to build a matrix like the following in Python we could:"
   ]
  },
  {
   "cell_type": "markdown",
   "metadata": {
    "cell_style": "split"
   },
   "source": [
    "$$\n",
    "M = \\begin{bmatrix}\n",
    "       7 & 6 & 0 \\\\[0.3em]\n",
    "       3 & 12 & 5 \\\\[0.3em]\n",
    "       -2 & 4 & 3\n",
    "     \\end{bmatrix}\n",
    "$$"
   ]
  },
  {
   "cell_type": "code",
   "execution_count": 19,
   "metadata": {
    "cell_style": "split"
   },
   "outputs": [
    {
     "name": "stdout",
     "output_type": "stream",
     "text": [
      "[[7, 6, 0], [3, 12, 5], [-2, 4, 3]]\n"
     ]
    }
   ],
   "source": [
    "M = [[7, 6, 0],\n",
    "     [3, 12, 5],\n",
    "     [-2, 4, 3]]\n",
    "\n",
    "print(M)"
   ]
  },
  {
   "cell_type": "markdown",
   "metadata": {},
   "source": [
    "So if we wanted to square each number in our matrix we could use nested loops. First we will print the values by row and column."
   ]
  },
  {
   "cell_type": "code",
   "execution_count": 20,
   "metadata": {},
   "outputs": [
    {
     "name": "stdout",
     "output_type": "stream",
     "text": [
      "7  6  0  \n",
      "3  12  5  \n",
      "-2  4  3  \n"
     ]
    }
   ],
   "source": [
    "for row in range(3):\n",
    "    for col in range(3):\n",
    "        print(M[row][col], \" \", end='')\n",
    "    print()"
   ]
  },
  {
   "cell_type": "markdown",
   "metadata": {},
   "source": [
    "<div class=\"alert alert-success\">\n",
    "<b>Note:</b> The <code>end=''</code> argument stops the <code>print()</code> function from adding a new line after each value  \n",
    "</div>"
   ]
  },
  {
   "cell_type": "markdown",
   "metadata": {},
   "source": [
    "We can now square each value and print the result:"
   ]
  },
  {
   "cell_type": "code",
   "execution_count": 21,
   "metadata": {},
   "outputs": [
    {
     "name": "stdout",
     "output_type": "stream",
     "text": [
      "[[49, 36, 0], [9, 144, 25], [4, 16, 9]]\n"
     ]
    }
   ],
   "source": [
    "for row in range(3):\n",
    "    for col in range(3):\n",
    "        M[row][col] = M[row][col]**2\n",
    "        \n",
    "print(M)"
   ]
  },
  {
   "cell_type": "markdown",
   "metadata": {
    "solution2": "hidden",
    "solution2_first": true
   },
   "source": [
    "<div class=\"alert alert-block alert-info\">\n",
    "<b>Task 3:</b>\n",
    "<br> \n",
    "Using the <code>input()</code> function for the maximum number of stars (<code>*</code>) and 2 nested (a loop inside a loop) loops. Output the following pattern: <br />\n",
    "*<br />\n",
    "* *<br />\n",
    "* * *<br />\n",
    "* * * *<br />\n",
    "The above pattern was produced with an input of <code>5</code>. Hint: you will need to add a newline using <code>print(\"\")</code> after each line and add <code>end=\"\"</code> to the print statement <code>print(\"* \", end=\"\")</code> to stop it from adding a newline after each star by default.\n",
    "</div>"
   ]
  },
  {
   "cell_type": "code",
   "execution_count": 15,
   "metadata": {
    "solution2": "hidden"
   },
   "outputs": [
    {
     "name": "stdout",
     "output_type": "stream",
     "text": [
      "Enter number of stars:6\n",
      "\n",
      "* \n",
      "* * \n",
      "* * * \n",
      "* * * * \n",
      "* * * * * \n"
     ]
    }
   ],
   "source": [
    "num_stars = int(input(\"Enter number of stars:\"))\n",
    "for i in range(num_stars):\n",
    "    for j in range(i):\n",
    "        print(\"* \", end=\"\")\n",
    "    print(\"\")"
   ]
  },
  {
   "cell_type": "code",
   "execution_count": null,
   "metadata": {
    "collapsed": true
   },
   "outputs": [],
   "source": []
  },
  {
   "cell_type": "markdown",
   "metadata": {},
   "source": [
    "<a id=\"while\"></a>\n",
    "#### 6.2 While loops"
   ]
  },
  {
   "cell_type": "markdown",
   "metadata": {
    "collapsed": true
   },
   "source": [
    "Sometimes we don't want to loop through something or repeat something a set number of times (or we might not know how many times). Instead we sometimes want to keep looping until a certain condition is met. This is where we can use a different type of loop that works with the logical operators we saw earlier. Let's say we want to read in password from a user. To read input we can use the <code>input()</code> function like so:"
   ]
  },
  {
   "cell_type": "code",
   "execution_count": 22,
   "metadata": {},
   "outputs": [
    {
     "name": "stdout",
     "output_type": "stream",
     "text": [
      "Type something: hi\n"
     ]
    },
    {
     "data": {
      "text/plain": [
       "'hi'"
      ]
     },
     "execution_count": 22,
     "metadata": {},
     "output_type": "execute_result"
    }
   ],
   "source": [
    "input(\"Type something: \")"
   ]
  },
  {
   "cell_type": "markdown",
   "metadata": {},
   "source": [
    "We might want to keep prompting a user for a login until they enter the correct login details. In this case when you run the code below it will keep prompting you to enter your username until you type in <code>letmein</code>. Give it a go. Try entering something else first before the required login."
   ]
  },
  {
   "cell_type": "code",
   "execution_count": 23,
   "metadata": {},
   "outputs": [
    {
     "name": "stdout",
     "output_type": "stream",
     "text": [
      "Enter username: hi\n",
      "Enter username: letmein\n"
     ]
    }
   ],
   "source": [
    "login = \"\"\n",
    "while(login != \"letmein\"):\n",
    "    login = input(\"Enter username: \")"
   ]
  },
  {
   "cell_type": "markdown",
   "metadata": {},
   "source": [
    "Here we are saying keep repeating everything after the colon (<code>:</code>) <code>while</code> (or as long as) the variable <code>login</code> does not equal (<code>!=</code>) the string <code>letmein</code>."
   ]
  },
  {
   "cell_type": "markdown",
   "metadata": {},
   "source": [
    "<div class=\"alert alert-danger\">\n",
    "<b>Note:</b> You should use caution with <code>while</code> (and other) loops because you can inadvertently trap your code in an infinite loop if the exit condition is not met. This will cause your program to lock up and freeze.   \n",
    "</div>"
   ]
  },
  {
   "cell_type": "markdown",
   "metadata": {
    "collapsed": true
   },
   "source": [
    "In the next notebook we will take a deeper look at functions. You have already been using a range of inbuilt functions for various purposes like <code>print()</code> to output messages, <code>len()</code> for the length of strings and lists and <code>range()</code> to produce number sequences that we have used in loops. We will look at how we can produce our own functions to break up tasks into smaller manageable and reusable chunks of code."
   ]
  },
  {
   "cell_type": "markdown",
   "metadata": {},
   "source": [
    "### Notebook details\n",
    "<br>\n",
    "<i>Notebook created by <strong>Dr. Alan Davies</strong>.\n",
    "<br>\n",
    "&copy; Alan Davies 2021"
   ]
  },
  {
   "cell_type": "markdown",
   "metadata": {},
   "source": [
    "## Notes:"
   ]
  },
  {
   "cell_type": "code",
   "execution_count": null,
   "metadata": {},
   "outputs": [],
   "source": []
  },
  {
   "cell_type": "code",
   "execution_count": null,
   "metadata": {},
   "outputs": [],
   "source": []
  },
  {
   "cell_type": "code",
   "execution_count": null,
   "metadata": {},
   "outputs": [],
   "source": []
  },
  {
   "cell_type": "code",
   "execution_count": null,
   "metadata": {},
   "outputs": [],
   "source": []
  }
 ],
 "metadata": {
  "hide_input": false,
  "kernelspec": {
   "display_name": "Python 3 (ipykernel)",
   "language": "python",
   "name": "python3"
  },
  "language_info": {
   "codemirror_mode": {
    "name": "ipython",
    "version": 3
   },
   "file_extension": ".py",
   "mimetype": "text/x-python",
   "name": "python",
   "nbconvert_exporter": "python",
   "pygments_lexer": "ipython3",
   "version": "3.8.12"
  }
 },
 "nbformat": 4,
 "nbformat_minor": 2
}
