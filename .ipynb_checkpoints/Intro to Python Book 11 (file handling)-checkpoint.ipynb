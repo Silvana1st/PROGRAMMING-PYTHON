{
 "cells": [
  {
   "cell_type": "markdown",
   "metadata": {},
   "source": [
    "<img src=\"./intro_images/MIE.PNG\" width=\"100%\" align=\"left\" />"
   ]
  },
  {
   "cell_type": "markdown",
   "metadata": {},
   "source": [
    "<table style=\"float:right;\">\n",
    "    <tr>\n",
    "        <td>                      \n",
    "            <div style=\"text-align: right\"><a href=\"https://alandavies.netlify.com\" target=\"_blank\">Dr Alan Davies</a></div>\n",
    "            <div style=\"text-align: right\">Senior Lecturer Health Data Science</div>\n",
    "            <div style=\"text-align: right\">University of Manchester</div>\n",
    "         </td>\n",
    "         <td>\n",
    "             <img src=\"./intro_images/alan.PNG\" width=\"30%\" />\n",
    "         </td>\n",
    "     </tr>\n",
    "</table>"
   ]
  },
  {
   "cell_type": "markdown",
   "metadata": {},
   "source": [
    "# 11.0 File handling\n",
    "****"
   ]
  },
  {
   "cell_type": "markdown",
   "metadata": {},
   "source": [
    "#### About this Notebook\n",
    "This notebook introduces working with common files in Python. This includes how you can save, load and append to files."
   ]
  },
  {
   "cell_type": "markdown",
   "metadata": {},
   "source": [
    "<div class=\"alert alert-block alert-warning\"><b>Learning Objectives:</b> \n",
    "<br/> At the end of this notebook you will be able to:\n",
    "    \n",
    "- Investigate core concepts of file handling with Python\n",
    "\n",
    "- Practice basic file handling tasks using Python \n",
    "\n",
    "</div> "
   ]
  },
  {
   "cell_type": "markdown",
   "metadata": {},
   "source": [
    "<a id=\"top\"></a>\n",
    "\n",
    "<b>Table of contents</b><br>\n",
    "\n",
    "11.1 [Basic file handling](#basic)\n",
    "\n",
    "11.2 [Working with other types of file](#other)\n",
    "\n",
    "11.3 [Working with common file formats](#common)\n",
    "\n",
    "11.4 [Navigating the file system](#nav)"
   ]
  },
  {
   "cell_type": "markdown",
   "metadata": {},
   "source": [
    "The ability of a programming language to access and manipulate files and folders in a given operating system (e.g. Window, Linux, MacOS etc.) is a poweful tool that programmers can use to automate many processes. This is also a key part of many web-based applications. "
   ]
  },
  {
   "cell_type": "markdown",
   "metadata": {},
   "source": [
    "Files are stored in folders (directories) on a given operating system. You may be familiar with selecting files and folders using software like the file explorer in Windows as seen in the image below where the <code>R</code> folder is inside another folder called <code>Documents</code>. "
   ]
  },
  {
   "cell_type": "markdown",
   "metadata": {},
   "source": [
    "<img src=\"./intro_images/files.PNG\" width=\"40%\" align=\"left\" />"
   ]
  },
  {
   "cell_type": "markdown",
   "metadata": {},
   "source": [
    "The exact location of a given file on an operating can be found with something called a <code>file path</code>. An example for a filepath for an image of the author called <code>alan.PNG</code> is located in the following path: "
   ]
  },
  {
   "cell_type": "markdown",
   "metadata": {},
   "source": [
    "<code>C:\\Users\\Alan_Davies\\NLP\\alan.PNG</code>"
   ]
  },
  {
   "cell_type": "markdown",
   "metadata": {},
   "source": [
    "This tells us several things. The first letter <code>C</code> is the hard drive the file is stored on (C is the default drive on a Windows machine). Then we have a number of folders separated by slashes. On some operating systems the slashes may be the other way around. In this example, on the hard drive <code>C</code>, there is a folder called <code>Users</code>, within this, another folder called <code>Alan_Davies</code>, then a folder called <code>NLP</code> which contains the file <code>alan.PNG</code>. The other point to note is the letters that come after the dot (period) in a file name. This is referred to as the <code>file extension</code> and determines what type of file it is. In this case it's an image, specifically a Portable Network Graphic (PNG). You may be familiar with other types of file such as a word document <code>.docx</code> or a Portable Document Format (PDF) file <code>.pdf</code> and so on. This example is depicted graphically below."
   ]
  },
  {
   "cell_type": "markdown",
   "metadata": {},
   "source": [
    "<img src=\"./intro_images/filesfolders.PNG\" width=\"40%\" align=\"left\" />"
   ]
  },
  {
   "cell_type": "markdown",
   "metadata": {},
   "source": [
    "<a id=\"basic\"></a>\n",
    "#### 11.1 Basic file handling"
   ]
  },
  {
   "cell_type": "markdown",
   "metadata": {},
   "source": [
    "Pyton uses the <code>open</code> function to open files. This function takes two parameters. The first is the filename (with path), the second is the mode in which you want to open the file. Python has 4 core modes that include <code>read</code>, <code>write</code>, <code>append</code> and <code>create</code>. Some of the main modes are shown in the table below:"
   ]
  },
  {
   "cell_type": "markdown",
   "metadata": {},
   "source": [
    "<style type=\"text/css\">\n",
    ".tg  {border-collapse:collapse;border-spacing:0;}\n",
    ".tg td{font-family:Arial, sans-serif;font-size:14px;padding:10px 5px;border-style:solid;border-width:1px;overflow:hidden;word-break:normal;border-color:black;}\n",
    ".tg th{font-family:Arial, sans-serif;font-size:14px;font-weight:normal;padding:10px 5px;border-style:solid;border-width:1px;overflow:hidden;word-break:normal;border-color:black;}\n",
    ".tg .tg-kiyi{font-weight:bold;border-color:inherit;text-align:left}\n",
    ".tg .tg-fymr{font-weight:bold;border-color:inherit;text-align:left;vertical-align:top}\n",
    ".tg .tg-xldj{border-color:inherit;text-align:left}\n",
    ".tg .tg-0pky{border-color:inherit;text-align:left;vertical-align:top}\n",
    "</style>\n",
    "<table class=\"tg\">\n",
    "  <tr>\n",
    "    <th class=\"tg-kiyi\">Mode</th>\n",
    "    <th class=\"tg-kiyi\">Description</th>\n",
    "  </tr>\n",
    "  <tr>\n",
    "    <td class=\"tg-xldj\">\"r\"</td>   \n",
    "    <td class=\"tg-0pky\">Read a file</td>\n",
    "  </tr>\n",
    "  <tr>\n",
    "    <td class=\"tg-xldj\">\"w\"</td>   \n",
    "    <td class=\"tg-0pky\">Write a file</td>\n",
    "  </tr>\n",
    "  <tr>\n",
    "    <td class=\"tg-xldj\">\"a\"</td>   \n",
    "    <td class=\"tg-0pky\">Append (add to an existing file) or creates if doesn't already exist</td>\n",
    "  </tr>\n",
    "  <tr>\n",
    "    <td class=\"tg-xldj\">\"x\"</td>   \n",
    "    <td class=\"tg-0pky\">Creates a new file</td>\n",
    "  </tr>\n",
    "  <tr>\n",
    "    <td class=\"tg-xldj\">\"t\"</td>   \n",
    "    <td class=\"tg-0pky\">Open in text mode (the default option)</td>\n",
    "  </tr>\n",
    "  <tr>\n",
    "    <td class=\"tg-xldj\">\"b\"</td>   \n",
    "    <td class=\"tg-0pky\">Opens in binary mode</td>\n",
    "  </tr>\n",
    "    <tr>\n",
    "    <td class=\"tg-xldj\">\"+\"</td>   \n",
    "    <td class=\"tg-0pky\">Opens for updating (both reading and writing)</td>\n",
    "  </tr>\n",
    "</table>"
   ]
  },
  {
   "cell_type": "markdown",
   "metadata": {},
   "source": [
    "<div class=\"alert alert-success\">\n",
    "    <b>Note:</b> Some of these can also be combined. For example <code>f = open(\"file.txt\", \"rt\")</code> to read text or <code>f = open(\"file.txt\", \"r+b\")</code> for reading and writing in binary mode.\n",
    "</div>"
   ]
  },
  {
   "cell_type": "markdown",
   "metadata": {},
   "source": [
    "Let's try to open a file. Here we will create a variable that stores the path and filename of the required file. This file is a text file (<code>*.txt</code>) and contains the lyrics for the Nirvana song \"Something in way\", which is also the name of the file. The <code>./</code> is for a <code>relative</code> path (relative to this notebook). This means the folder can be accessed if we put the notebook in different places as long as there is a folder called <code>file_handling</code> in the same folder the notebook is in. This saves us having to hard code the specific path. For example when I wrote this notebook, the file was here: <code>C:\\Users\\Alan_Davies\\Intro to programming (Python)\\file_handling\\Something in the way.txt</code>. I send these notebooks to someone who uploads them onto a server. The path could be quite different in this case. It might for example be: <code>E:\\data_files\\teaching\\FBMH\\SHS\\intro_programming\\file_handling\\Something in the way.txt</code>. This is where the power of relative paths comes in. As long as the folder <code>file_handling</code> is relative to this notebook file, we don't have to explicitly add the full file path to work with the file. "
   ]
  },
  {
   "cell_type": "code",
   "execution_count": 11,
   "metadata": {},
   "outputs": [],
   "source": [
    "file_path = \"./file_handling/Something in the way.txt\""
   ]
  },
  {
   "cell_type": "markdown",
   "metadata": {},
   "source": [
    "Next we can use the <code>open</code> function to open the file passing in the file path variable. For just opening a file, we can omit the mode. We could also have included it (e.g. <code>open(file_path, \"r\")</code>)."
   ]
  },
  {
   "cell_type": "code",
   "execution_count": 12,
   "metadata": {},
   "outputs": [],
   "source": [
    "f = open(file_path)"
   ]
  },
  {
   "cell_type": "markdown",
   "metadata": {},
   "source": [
    "You will note that if we try and output the file using <code>print</code> function, we just output details of the file object. We need to use the <code>read</code> function instead if we want to see the contents."
   ]
  },
  {
   "cell_type": "markdown",
   "metadata": {},
   "source": [
    "<div class=\"alert alert-success\">\n",
    "<b>Note:</b> You can also pass a number into the <code>read</code> function to specify the number of lines you want to read. e.g. for the first 10 lines, you could write <code>f.read(10)</code>.\n",
    "</div>"
   ]
  },
  {
   "cell_type": "code",
   "execution_count": 13,
   "metadata": {},
   "outputs": [
    {
     "name": "stdout",
     "output_type": "stream",
     "text": [
      "<_io.TextIOWrapper name='./file_handling/Something in the way.txt' mode='r' encoding='cp1252'>\n"
     ]
    }
   ],
   "source": [
    "print(f)"
   ]
  },
  {
   "cell_type": "markdown",
   "metadata": {},
   "source": [
    "The read function now displays the contents of the file below."
   ]
  },
  {
   "cell_type": "code",
   "execution_count": 14,
   "metadata": {},
   "outputs": [
    {
     "name": "stdout",
     "output_type": "stream",
     "text": [
      "\"Something In The Way\"\n",
      "\n",
      "Underneath the bridge\n",
      "Tarp has sprung a leak\n",
      "And the animals I've trapped\n",
      "Have all become my pets\n",
      "And I'm living off of grass\n",
      "And the drippings from the ceiling\n",
      "It's okay to eat fish\n",
      "'Cause they don't have any feelings\n",
      "\n",
      "Something in the way, mmm\n",
      "Something in the way, yeah, mmm\n",
      "Something in the way, mmm\n",
      "Something in the way, yeah, mmm\n",
      "Something in the way, mmm\n",
      "Something in the way, yeah, mmm\n",
      "\n",
      "Underneath the bridge\n",
      "Tarp has sprung a leak\n",
      "And the animals I've trapped\n",
      "Have all become my pets\n",
      "And I'm living off of grass\n",
      "And the drippings from the ceiling\n",
      "It's okay to eat fish\n",
      "'Cause they don't have any feelings\n",
      "\n",
      "Something in the way, mmm\n",
      "Something in the way, yeah, mmm\n",
      "Something in the way, mmm\n",
      "Something in the way, yeah, mmm\n",
      "Something in the way, mmm\n",
      "Something in the way, yeah, mmm\n",
      "Something in the way, mmm\n",
      "Something in the way, yeah, mmm\n"
     ]
    }
   ],
   "source": [
    "print(f.read())"
   ]
  },
  {
   "cell_type": "markdown",
   "metadata": {},
   "source": [
    "Finally we close the file. with the <code>close</code> function."
   ]
  },
  {
   "cell_type": "code",
   "execution_count": 15,
   "metadata": {},
   "outputs": [],
   "source": [
    "f.close()"
   ]
  },
  {
   "cell_type": "markdown",
   "metadata": {},
   "source": [
    "<div class=\"alert alert-success\">\n",
    "<b>Note:</b> Closing files when you are done with them is generally seen as good practice. This is for reasons including; Too many open files may slow your program down, you may run into an upper limit of the number of files that can be open at any given time, in some cases some changes to files are not initiated until the file is closed, operating systems like Windows treat open files as locked files which prevents certain actions being carried out on them. \n",
    "</div>"
   ]
  },
  {
   "cell_type": "markdown",
   "metadata": {
    "solution2": "hidden",
    "solution2_first": true
   },
   "source": [
    "<div class=\"alert alert-block alert-info\">\n",
    "<b>Task 1:</b>\n",
    "<br> \n",
    "1. Open the file in the location: <code>./file_handling/A/American Pie.txt</code> for reading.<br>\n",
    "2. Output it's contents <br>\n",
    "3. Close the file\n",
    "</div>"
   ]
  },
  {
   "cell_type": "code",
   "execution_count": 2,
   "metadata": {
    "solution2": "hidden"
   },
   "outputs": [
    {
     "name": "stdout",
     "output_type": "stream",
     "text": [
      "\"American Pie\"\n",
      "\n",
      "...A long, long time ago\n",
      "I can still remember how that music used to make me smile\n",
      "And I knew if I had my chance that I could make those people dance\n",
      "And maybe they'd be happy for a while\n",
      "... But February made me shiver\n",
      "With every paper I'd deliver\n",
      "Bad news on the doorstep\n",
      "I couldn't take one more step\n",
      "... I can't remember if I cried\n",
      "When I read about his widowed bride\n",
      "But something touched me deep inside\n",
      "The day the music died\n",
      "... So bye-bye, Miss American Pie\n",
      "Drove my Chevy to the levee, but the levee was dry\n",
      "And them good old boys were drinkin' whiskey and rye\n",
      "Singin' \"This'll be the day that I die\n",
      "This'll be the day that I die\"\n",
      "... Did you write the book of love, and do you have faith in God above\n",
      "If the Bible tells you so?\n",
      "Now do you believe in rock and roll, can music save your mortal soul\n",
      "And can you teach me how to dance real slow?\n",
      "... Well, I know that you're in love with him\n",
      "'Cause I saw you dancin' in the gym\n",
      "You both kicked off your shoes\n",
      "Man, I dig those rhythm and blues\n",
      "... I was a lonely teenage broncin' buck\n",
      "With a pink carnation and a pickup truck\n",
      "But I knew I was out of luck\n",
      "The day the music died\n",
      "... I started singin' bye-bye, Miss American Pie\n",
      "Drove my Chevy to the levee, but the levee was dry\n",
      "Them good old boys were drinkin' whiskey and rye\n",
      "And singin' \"This'll be the day that I die\n",
      "This'll be the day that I die\"\n",
      "... Now for ten years we've been on our own, and moss grows fat on a rollin' stone\n",
      "But that's not how it used to be\n",
      "When the jester sang for the king and queen in a coat he borrowed from James Dean\n",
      "And a voice that came from you and me\n",
      "... Oh, and while the king was looking down\n",
      "The jester stole his thorny crown\n",
      "The courtroom was adjourned\n",
      "No verdict was returned\n",
      "... And while Lenin read a book on Marx\n",
      "A quartet practiced in the park\n",
      "And we sang dirges in the dark\n",
      "The day the music died\n",
      "... We were singin' bye-bye, Miss American Pie\n",
      "Drove my Chevy to the levee, but the levee was dry\n",
      "Them good old boys were drinkin' whiskey and rye\n",
      "Singin' \"This'll be the day that I die\n",
      "This'll be the day that I die\"\n",
      "... Helter skelter in a summer swelter, the birds flew off with a fallout shelter\n",
      "Eight miles high and falling fast\n",
      "It landed foul on the grass, the players tried for a forward pass\n",
      "With the jester on the sidelines in a cast\n",
      "... Now the halftime air was sweet perfume\n",
      "While the sergeants played a marching tune\n",
      "We all got up to dance\n",
      "Oh, but we never got the chance\n",
      "... 'Cause the players tried to take the field\n",
      "The marching band refused to yield\n",
      "Do you recall what was revealed\n",
      "The day the music died?\n",
      "... We started singin' bye-bye, Miss American Pie\n",
      "Drove my Chevy to the levee, but the levee was dry\n",
      "Them good old boys were drinkin' whiskey and rye\n",
      "And singin' \"This'll be the day that I die\n",
      "This'll be the day that I die\"\n",
      "... Oh, and there we were all in one place, a generation lost in space\n",
      "With no time left to start again\n",
      "So come on, Jack be nimble, Jack be quick, Jack Flash sat on a candlestick\n",
      "'Cause fire is the devil's only friend\n",
      "... Oh, and as I watched him on the stage\n",
      "My hands were clenched in fists of rage\n",
      "No angel born in Hell\n",
      "Could break that Satan's spell\n",
      "... And as the flames climbed high into the night\n",
      "To light the sacrificial rite\n",
      "I saw Satan laughing with delight\n",
      "The day the music died\n",
      "... I started singin' it\n",
      "Singin' bye-bye, Miss American Pie\n",
      "Drove my Chevy to the levee, but the levee was dry\n",
      "Them good old boys were drinkin' whiskey and rye\n",
      "And singin' \"This'll be the day that I die\n",
      "This'll be the day that I die\"\n",
      "... I met a girl who sang the blues, and I asked her for some happy news\n",
      "But she just smiled and turned away\n",
      "I went down to the sacred store where I'd heard the music years before\n",
      "But the man there said the music wouldn't play\n",
      "â€¦ And in the streets, the children screamed\n",
      "The lovers cried, and the poets dreamed\n",
      "But not a word was spoken\n",
      "The church bells all were broken\n",
      "â€¦ And the three men I admire most\n",
      "The Father, Son, and the Holy Ghost\n",
      "They caught the last train for the coast\n",
      "The day the music died\n",
      "â€¦ And they were singin' bye-bye, Miss American Pie\n",
      "Drove my Chevy to the levee, but the levee was dry\n",
      "And them good old boys were drinkin' whiskey and rye\n",
      "Singin' \"This'll be the day that I die\n",
      "This'll be the day that I die\"\n",
      "â€¦ They were singin' bye-bye, Miss American Pie\n",
      "Drove my Chevy to the levee, but the levee was dry\n",
      "Them good old boys were drinkin' whiskey and rye\n",
      "And singin' This'll be the day that I die\"\n"
     ]
    }
   ],
   "source": [
    "file_path = \"./file_handling/A/American Pie.txt\"\n",
    "f = open(file_path)\n",
    "print(f.read())\n",
    "f.close()"
   ]
  },
  {
   "cell_type": "code",
   "execution_count": null,
   "metadata": {},
   "outputs": [],
   "source": []
  },
  {
   "cell_type": "markdown",
   "metadata": {},
   "source": [
    "If you wanted to return the lines one at a time, you can also use the <code>readline</code> function."
   ]
  },
  {
   "cell_type": "markdown",
   "metadata": {},
   "source": [
    "Another thing you are going to want to do when working with files is to put some error handling around using them to deal with issues like a file not being found etc. so your program doesn't just crash, but instead provides more meaningful error handling. Let's consider opening a file to write to it. It should create a new file if it doesn't already exist."
   ]
  },
  {
   "cell_type": "code",
   "execution_count": 16,
   "metadata": {},
   "outputs": [],
   "source": [
    "file_path = \"./file_handling/\"\n",
    "file_name = \"mytestfile.txt\"\n",
    "\n",
    "f = open(file_path + file_name, 'a')\n",
    "try:\n",
    "    f.write(\"\\nThis is a line of text to write to the file.\")\n",
    "finally:\n",
    "    f.close()"
   ]
  },
  {
   "cell_type": "markdown",
   "metadata": {},
   "source": [
    "Here we opened the file for appending (so if you run this again it will keep adding lines to the file). We use the <code>try</code> ststement to attempt to write to the file and finally we close it. Another less verbose way of doing this is to use a <code>context manager</code>. Python does this with the <code>with</code> statement. "
   ]
  },
  {
   "cell_type": "code",
   "execution_count": 17,
   "metadata": {},
   "outputs": [],
   "source": [
    "with open(file_path + file_name, 'a') as f:\n",
    "    f.write(\"\\nHere is another line.\")\n",
    "    f.close()"
   ]
  },
  {
   "cell_type": "markdown",
   "metadata": {},
   "source": [
    "This works in the same way as the earlier option but uses less lines of code and manages things like closing the file automatically for us once outside of the context. "
   ]
  },
  {
   "cell_type": "markdown",
   "metadata": {
    "solution2": "hidden",
    "solution2_first": true
   },
   "source": [
    "<div class=\"alert alert-block alert-info\">\n",
    "<b>Task 2:</b>\n",
    "<br> \n",
    "Using a context manager, open the file <code>./file_handling/A/Silk.txt</code> and display its contents.\n",
    "</div>"
   ]
  },
  {
   "cell_type": "code",
   "execution_count": 3,
   "metadata": {
    "solution2": "hidden",
    "tags": []
   },
   "outputs": [
    {
     "name": "stdout",
     "output_type": "stream",
     "text": [
      "\"Silk\"\n",
      "\n",
      "Your broad shoulders, my wet tears\n",
      "You're alive and I'm still here\n",
      "As some half-human creature thing\n",
      "Can you bring life to anything? Ooh\n",
      "(\"Take this to make you better\"\n",
      "Though eventually you'll die)\n",
      "If you don't love me, don't tell me\n",
      "I've never asked who and I'll never ask why\n",
      "(\"It's such a shame, she used to be so delightful\")\n",
      "Well, whose fault is that, if it wasn't Mum and Dad's?\n",
      "\"Well it must be yours\"\n",
      "We'll have none of that, no\n",
      "\n",
      "Just looking for a protector\n",
      "God never reached out in time\n",
      "There's love that is a saviour\n",
      "But that ain't no love of mine\n",
      "My love it kills me slowly\n",
      "Slowly I could die\n",
      "And when she sleeps she hears the blues\n",
      "And sees shades of black and white\n",
      "(Run, run, run away)\n",
      "(Run, run, run away)\n",
      "\n",
      "Got to stay cool, you hot, hot head\n",
      "Count to a thousand before you sleep in bed\n",
      "Read the news, pass the time\n",
      "Drink the juice, feeling fine\n",
      "Got to stay cool, you hot, hot head\n",
      "Count to a thousand before you sleep in bed\n",
      "Read the news, pass the time\n",
      "Drink the juice, feeling fine\n",
      "\"At least you're not boring\"\n",
      "No one ever wants to feel you're this sad, ohh\n",
      "\n",
      "Just looking for a protector\n",
      "God never reached out in time\n",
      "There's love that is a saviour\n",
      "But that ain't no love of mine\n",
      "My love it kills me slowly\n",
      "Slowly I could die\n",
      "And when she sleeps she hears the blues\n",
      "And sees shades of black and white\n",
      "\n",
      "Just looking for a protector\n",
      "God never reached out in time\n",
      "There's love that is a saviour\n",
      "But that ain't no love of mine\n",
      "My love it kills me slowly\n",
      "Slowly I could die\n",
      "And when she sleeps she hears the blues\n",
      "And sees shades of black and white\n"
     ]
    }
   ],
   "source": [
    "with open(\"./file_handling/A/Silk.txt\", 'r') as f:\n",
    "    print(f.read())\n",
    "    f.close()"
   ]
  },
  {
   "cell_type": "code",
   "execution_count": null,
   "metadata": {},
   "outputs": [],
   "source": []
  },
  {
   "cell_type": "markdown",
   "metadata": {},
   "source": [
    "The <code>read</code> function reads the entire file in one go. We can also get a list of the lines in a file using the <code>readlines</code> function."
   ]
  },
  {
   "cell_type": "code",
   "execution_count": 22,
   "metadata": {},
   "outputs": [
    {
     "name": "stdout",
     "output_type": "stream",
     "text": [
      "['This is a line of text to write to the file.\\n', 'Here is another line.This is a line of text to write to the file.\\n', 'Here is another line.']\n"
     ]
    }
   ],
   "source": [
    "with open(file_path + file_name, 'r') as f:\n",
    "    print(f.readlines())\n",
    "    f.close()"
   ]
  },
  {
   "cell_type": "markdown",
   "metadata": {},
   "source": [
    "This works well for shorter smaller files but for much larger files this is not very memory efficient. We could instead use the <code>readline</code> function to read in each line, line at a time."
   ]
  },
  {
   "cell_type": "code",
   "execution_count": 24,
   "metadata": {},
   "outputs": [
    {
     "name": "stdout",
     "output_type": "stream",
     "text": [
      "This is a line of text to write to the file.\n",
      "\n",
      "Here is another line.This is a line of text to write to the file.\n",
      "\n",
      "Here is another line.\n"
     ]
    }
   ],
   "source": [
    "with open(file_path + file_name, 'r') as f:\n",
    "    for line in f:\n",
    "        print(line)\n",
    "    f.close()"
   ]
  },
  {
   "cell_type": "markdown",
   "metadata": {},
   "source": [
    "To store and use characters digitally they are often represented with an encoding system. There are different character encoding standards such as <code>ASCII</code> (American Standard Code for Information Interchange). For example the letter <code>a</code> is represented by the ASCII code <code>097</code>, which is also <code>01100001</code> in binary. There are other encoding sets such as <code>UTF-8</code> (Unicode (or Universal Coded Character Set) Transformation Format, 8-bit) that supports characters of variable widths. The letter <code>a</code> in this system is <code>U+0061</code>. In Python, we can use UTF-8 directly like so:"
   ]
  },
  {
   "cell_type": "code",
   "execution_count": 49,
   "metadata": {
    "jupyter": {
     "outputs_hidden": true
    }
   },
   "outputs": [
    {
     "data": {
      "text/plain": [
       "'a'"
      ]
     },
     "execution_count": 49,
     "metadata": {},
     "output_type": "execute_result"
    }
   ],
   "source": [
    "u\"\\u0061\""
   ]
  },
  {
   "cell_type": "markdown",
   "metadata": {},
   "source": [
    "<div class=\"alert alert-success\">\n",
    "<b>Note:</b> You may need to convert the character encoding of text data that you import to carry out further processing and to better represent certain symbols (e.g. emojis &#127773;).\n",
    "</div>"
   ]
  },
  {
   "cell_type": "markdown",
   "metadata": {},
   "source": [
    "We can explicitly state the encoding for a file by passing it in as a parameter e.g. <code>f = open(\"test_file.txt\", mode='r', encoding='utf-8')</code>."
   ]
  },
  {
   "cell_type": "markdown",
   "metadata": {
    "solution2": "hidden",
    "solution2_first": true
   },
   "source": [
    "<div class=\"alert alert-block alert-info\">\n",
    "<b>Task 3:</b>\n",
    "<br> \n",
    "Using the method above for displaying the letter <code>a</code>, output the character <code>%</code>.\n",
    "</div>"
   ]
  },
  {
   "cell_type": "code",
   "execution_count": 4,
   "metadata": {
    "solution2": "hidden"
   },
   "outputs": [
    {
     "data": {
      "text/plain": [
       "'%'"
      ]
     },
     "execution_count": 4,
     "metadata": {},
     "output_type": "execute_result"
    }
   ],
   "source": [
    "u\"\\u0025\""
   ]
  },
  {
   "cell_type": "code",
   "execution_count": null,
   "metadata": {},
   "outputs": [],
   "source": []
  },
  {
   "cell_type": "markdown",
   "metadata": {},
   "source": [
    "<a id=\"other\"></a>\n",
    "#### 11.2 Working with other types of file"
   ]
  },
  {
   "cell_type": "markdown",
   "metadata": {},
   "source": [
    "Let's create some data and store it in a dictionary. Here we have some details for a patient. We may want to save this data to a file or transmit it over a network. This could represent many things, such as settings options for a program or app."
   ]
  },
  {
   "cell_type": "code",
   "execution_count": 26,
   "metadata": {},
   "outputs": [],
   "source": [
    "my_data = {\n",
    "    'name': 'Paul Smith',\n",
    "    'id': '1342',\n",
    "    'age': 45,\n",
    "    'diagnosis': 'NIDDM',\n",
    "    'PMH': ['Hypertension', 'IBS', 'Bowel CA']\n",
    "}"
   ]
  },
  {
   "cell_type": "markdown",
   "metadata": {},
   "source": [
    "We can do this easily in Python using the <code>pickle</code> module."
   ]
  },
  {
   "cell_type": "code",
   "execution_count": 27,
   "metadata": {},
   "outputs": [],
   "source": [
    "import pickle"
   ]
  },
  {
   "cell_type": "markdown",
   "metadata": {},
   "source": [
    "We can create a new file to write binary <code>wb</code>. We also need to make sure to use the file extension <code>.pkl</code> for pickled files. This then works in the same way but using <code>pickle.dump</code>. We pass the dictionary into this to write it to file."
   ]
  },
  {
   "cell_type": "code",
   "execution_count": 33,
   "metadata": {},
   "outputs": [],
   "source": [
    "new_path = \"./file_handling/B/health_record.pkl\"\n",
    "\n",
    "with open(new_path, 'wb') as f:\n",
    "    pickle.dump(my_data, f)\n",
    "    f.close()"
   ]
  },
  {
   "cell_type": "markdown",
   "metadata": {},
   "source": [
    "Pickling refers to the <code>serializing</code> and <code>de-serializing</code> of Python object structures. This essentially converts objects like dictionaries into a stream of bytes that can be sent over a network or saved to disk. This can be used to save information that you want to persist after a program has finished running. Alternatively you may want to use this to send data packets via the internet or other network. The only drawback is that this only works with Python. If you want to make your programs more <code>interoperable</code> (work with other systems and languages) then you should consider using something like JSON (JavaScript Object Notation) instead. JSON is widely supported and is not limited to any specific programming language despite originating from JavaScript. For this we need to use the <code>json</code> module."
   ]
  },
  {
   "cell_type": "code",
   "execution_count": 34,
   "metadata": {},
   "outputs": [],
   "source": [
    "import json"
   ]
  },
  {
   "cell_type": "markdown",
   "metadata": {},
   "source": [
    "As with pickled files we need to change the file extension to reflect the fact that the file is a json file. We do this by using the <code>.json</code> extension. We can convert the dictionary into json format using <code>json.dumps</code> and then write this to a file using the <code>write</code> function. "
   ]
  },
  {
   "cell_type": "code",
   "execution_count": 35,
   "metadata": {},
   "outputs": [],
   "source": [
    "new_path = \"./file_handling/B/health_record.json\"\n",
    "\n",
    "with open(new_path, 'w') as f:\n",
    "    json_file = json.dumps(my_data)\n",
    "    f.write(json_file)\n",
    "    f.close()"
   ]
  },
  {
   "cell_type": "markdown",
   "metadata": {},
   "source": [
    "We can load the data back in again using <code>json.load</code>. First we create a new empty dictionary called <code>new_dict</code> to store the loaded data."
   ]
  },
  {
   "cell_type": "code",
   "execution_count": 36,
   "metadata": {},
   "outputs": [],
   "source": [
    "new_dict = {}"
   ]
  },
  {
   "cell_type": "markdown",
   "metadata": {},
   "source": [
    "Here we load back in the data, store it in the new empty dict and print the contents. We can see this does indeed contain the data that we saved in the json file."
   ]
  },
  {
   "cell_type": "code",
   "execution_count": 37,
   "metadata": {},
   "outputs": [
    {
     "name": "stdout",
     "output_type": "stream",
     "text": [
      "{'name': 'Paul Smith', 'id': '1342', 'age': 45, 'diagnosis': 'NIDDM', 'PMH': ['Hypertension', 'IBS', 'Bowel CA']}\n"
     ]
    }
   ],
   "source": [
    "with open(new_path) as f:\n",
    "   health_data = json.load(f)\n",
    "   f.close()\n",
    "    \n",
    "new_dict = health_data\n",
    "print(new_dict)"
   ]
  },
  {
   "cell_type": "markdown",
   "metadata": {},
   "source": [
    "<div class=\"alert alert-block alert-info\">\n",
    "<b>Task 4:</b>\n",
    "<br> \n",
    "1. Using the method above, create some data in a dictionary.<br>\n",
    "2. Use <code>json.dumps</code> to save the file in the folder <code>./file_handling/B</code>.<br>\n",
    "3. Load the file into a new empty dictionary and output its contents.<br><br>\n",
    "<strong>Note:</strong> We don't provide a solution here as the data you choose to store will be decided by each individual. \n",
    "</div>"
   ]
  },
  {
   "cell_type": "code",
   "execution_count": null,
   "metadata": {},
   "outputs": [],
   "source": []
  },
  {
   "cell_type": "markdown",
   "metadata": {},
   "source": [
    "<a id=\"common\"></a>\n",
    "#### 11.3 Working with common file formats"
   ]
  },
  {
   "cell_type": "markdown",
   "metadata": {},
   "source": [
    "Python can also cope with loading lots of different file types. This usually involves importing a specific module for that purpose. Here are some examples with a couple of common file formats. In one of the folders we have included a chapter from the book below as a Word document."
   ]
  },
  {
   "cell_type": "markdown",
   "metadata": {},
   "source": [
    "<img src=\"./intro_images/book.PNG\" width=\"20%\" align=\"left\" />"
   ]
  },
  {
   "cell_type": "markdown",
   "metadata": {},
   "source": [
    "We can use the <code>docx</code> module to work with Word documents."
   ]
  },
  {
   "cell_type": "code",
   "execution_count": 39,
   "metadata": {},
   "outputs": [],
   "source": [
    "from docx import Document"
   ]
  },
  {
   "cell_type": "markdown",
   "metadata": {},
   "source": [
    "We create a document by loading in the Word doc like so. This is actually creating an instance of the <code>Document</code> class and passing in the file path to the constructor. "
   ]
  },
  {
   "cell_type": "code",
   "execution_count": 40,
   "metadata": {},
   "outputs": [],
   "source": [
    "doc = Document(\"./file_handling/B/Chapter 1.docx\")"
   ]
  },
  {
   "cell_type": "markdown",
   "metadata": {},
   "source": [
    "You can view text paragraph at a time."
   ]
  },
  {
   "cell_type": "code",
   "execution_count": 41,
   "metadata": {},
   "outputs": [
    {
     "name": "stdout",
     "output_type": "stream",
     "text": [
      "Chapter 1:\n"
     ]
    }
   ],
   "source": [
    "print(doc.paragraphs[0].text)"
   ]
  },
  {
   "cell_type": "markdown",
   "metadata": {},
   "source": [
    "Or display the entire document. The module has many other functions for working with Word documents aside from the few shown here."
   ]
  },
  {
   "cell_type": "code",
   "execution_count": 42,
   "metadata": {},
   "outputs": [
    {
     "name": "stdout",
     "output_type": "stream",
     "text": [
      "Chapter 1:\n",
      "How to record a 12-lead ECG\n",
      "Alan Davies and Alwyn Scott\n",
      "\n",
      "Physiology \n",
      "Sinoatrial node \n",
      "Interatrial/internodal tracts \n",
      "Atrioventricular node \n",
      "Bundle of His \n",
      "Right bundle branch \n",
      "Left bundle branch \n",
      "What is an ECG \n",
      "Patient positioning \n",
      "Electrode placement \n",
      "Attaching the cables \n",
      "The machine \n",
      "What to write on the ECG \n",
      "Quiz \n",
      "Summary of key points \n",
      "\n",
      "\n",
      "Physiology\n",
      "The heart is located in the chest between the lungs in the mediastinum. It is surrounded by a protective sac called the pericardium (figure 1.1). Essentially the heart is split into four functional chambers; a left and right atrium, and a left and right ventricle (figure 1.2). Deoxygenated blood (blood with no oxygen in it) is emptied into the right atrium via the vena cava. The inferior vena cava returns blood from the lower portion of the body as the superior vena cava returns blood from the higher portion. This blood is then pumped through the tricuspid valve into the right ventricle. Blood is then passed into the lungs via the pulmonary artery where it is oxygenated. Oxygenated blood then returns from the lungs into the left atrium where it can be pumped to the rest of the body by the powerful left ventricle, via the aorta (figure 1.3). The cells responsible for the contraction of the heart muscle are called myocytes. Apart from the hearts mechanical function as a pump it also has an electrical system governing the rate at which the heart beats, controlling in turn how slow or fast the blood and oxygen gets pumped to all the organs and tissues in the body.\n",
      "\n",
      "\n",
      "Figure 1.1: The location of the heart in the thoracic cavity.\n",
      "\n",
      "\n",
      "\n",
      "\n",
      "Figure 1.2: Diagrammatic view of the chambers and vessels of the heart.\n",
      "\n",
      "\n",
      "\n",
      "Figure 1.3: Schematic diagram showing the mechanical function of the heart.\n",
      "\n",
      "In addition to the myocyte cells, there are also specialised conduction cells in the heart. These cells possess a quality know as automaticity. This is the ability to spontaneously depolarise via an electromechanical gradient. Depolarisation is a process where by a resting cell becomes gradually more positively charged (figure 1.4). This is accomplished by a sudden influx of positively charged sodium and calcium  ions into the cell Alternatively, Repolarisation is the returning of the cell to its resting state following a brief refractory (recovery) period.\n",
      "\n",
      "\n",
      "\n",
      "Figure 1.4: Depolarisation and repolarisation.\n",
      "\n",
      "These specialised conduction cells are distributed throughout the heart forming specialised conduction pathways (figure 1.5). Depolarisation occurs in the Sinoatrial node (SAN). This is a collection of self-excitory (pacemaker) cells that normally fire at a rate of between 60-100 Beats Per Minute (BPM). The “wave” of Depolarisation moves from the SAN through an intra-atrial tract called Bachmanns bundle into the left atrium and to the Atrioventricular (AV) node. From here the impulse travels down the bundle of His into the right and Left bundle branches and finally into the Purkinje fibres activating the ventricles.\n",
      "\n",
      "We will now examine the components of the conduction system in isolation to better understand their function. It is also worth noting that every cell in the conduction system can act as a pacemaker when called upon to do so. This provides a backup system should the SAN fail. The lower down the conduction system is activated, the slower the heart rate.\n",
      "\n",
      "\n",
      "\n",
      "Figure 1.5: Cardiac conduction system.\n",
      "\n",
      "\n",
      "\n",
      "Figure 1.6: Sinoatrial node (SAN).\n",
      "\n",
      "Sinoatrial node (SAN)\n",
      "[pacemaker rate approx: 60-100 BPM] The SAN is located in the right atrium, near the join of superior vena cava with the atrial mass (figure 1.6).\n",
      "The SAN acts as the hearts primary pacemaker. The ‘firing’ rate of the SAN is where the ‘normal’ heart rate figure is derived from. Anything above 100 BPM is termed a ‘tachycardia’, conversely anything below 60 BPM is referred to as a ‘bradycardia’.\n",
      "\n",
      "\n",
      "Interatrial/internodal tracts\n",
      "The Bachmanns bundle and iternodal tracts allow the rapid transmission of electrical impulses from the SAN to the left atrium and AV node.\n",
      "\n",
      "Atrioventricular node (AV)\n",
      "[pacemaker rate approx: 40-60 BPM] The AV node deliberately delays the impulses from the atria allowing the ventricles time to finish filling and to optimise cardiac output. The atria and ventricles are isoelectrically insulated by the atrioventricular ring. The AV node allows electrical impulses generated in the atria to pass into the ventricular region.\n",
      "\n",
      "Bundle of His\n",
      "[pacemaker rate approx: 40-45 BPM] Located primarily in the intraventricular septum (figure 1.7). The bundle of His allows the impulse to travel from the atria to the ventricles. The bundle of His bifurcates into the left and right bundle branches.\n",
      "\n",
      "Right bundle branch\n",
      "[pacemaker rate approx 40-45 BPM] Allows the electrical impulse to travel from the common bundle branch into the right ventricle where the impulse is transmitted through the Purkinje fibres attached to the Right bundle\n",
      "branch (figure 1.8).\n",
      "\n",
      "\n",
      "Figure 1.7: The bundle of His.\n",
      "\n",
      "\n",
      "\n",
      "Figure 1.8: Right Bundle Branch.\n",
      "\n",
      "Left bundle branch\n",
      "[pacemaker rate approx.: 40-45 BPM] The Left bundle branch is more complex and has two fascicles protruding from it. This is because the left ventricle is much larger than the right, so by contrast there are more elements to the conduction system of the Left bundle branch. The two fascicles are referred to as the anterior and posterior fascicles (figure 1.9).\n",
      "\n",
      "\n",
      "\n",
      "Figure 1.9: Left Bundle Branch.\n",
      "\n",
      "What is an ECG and how are they recorded?\n",
      "The ECG, short for electrocardiogram is a graphical representation of the electrical activity generated by the heart. This can be of help in diagnosing or supporting the presence of cardiac rhythm disturbances, structural heart disease, acute cardiac emergencies and a variety of other medical conditions. The ECG is a cheap and easily repeatable test. The wide availability of the ECG means that it is available outside of cardiology areas, and is now found on many general wards, GP surgeries and other clinical areas. Electrical activity from the heart is picked up by cables called leads that are attached to a patient. The electrical activity of the heart muscle is then represented by the ECG machine on pre-printed graph paper.\n",
      "\n",
      "\n",
      "\n",
      "Patient positioning\n",
      "Prior to recording a 12-lead ECG, the procedure should be explained to the patient and the patient’s consent obtained (figure 1.10). The patient should then be laid back at an angle of around 30 to 45 degrees. This helps to open up the intercostal spaces, allowing easier placement of the electrodes. If the patient is in any other position, including sitting upright, it should be documented on the ECG i.e. ‘recorded with patient sitting upright’. \n",
      "\n",
      "Sometimes it is necessary to prepare the skin prior to attaching electrodes. If there is visible dirt (blood, soil, water, oil, etc.) this should be removed prior to obtaining a recording. If the patient is perspiring, the adhesion of the electrodes may be affected. In this case an alcohol wipe (or soap and water) can be used to clean the area. It may also be necessary to shave off any excessive chest hair, to ensure better adhesion of the electrodes.\n",
      "\n",
      "\n",
      "Figure 1.10 Nurse explaining procedure to patient and seeking consent.\n",
      "\n",
      "\n",
      "\n",
      "Figure 1.11: Electrode positions.\n",
      "\n",
      "\n",
      "Step 1\n",
      "Prior to attaching the electrodes and ensuring good patient position, all clothing on the top half of the body should be removed. The trousers\n",
      "can be rolled up to allow access to the legs. If the patient is wearing any tights they should also be removed prior to attaching electrodes. The skin is then prepared as necessary (as discussed earlier).\n",
      "\n",
      "\n",
      "Step 2\n",
      "First start by attaching the limb electrodes to the arms and legs. When attaching the electrodes to the legs it helps to place them with the tab facing\n",
      "towards the torso so the cables don’t pull (figures 1.12 and 1.13).\n",
      "\n",
      "Step 3\n",
      "The electrodes can then be attached to the torso, starting with V1, which is placed in the fourth intercostal space, just to the right of the sternum.\n",
      "Electrodes should be placed with the middle of the electrode in the middle of the intercostal space.\n",
      "\n",
      "One of the problems with the position of V1 is that practitioners sometimes miscount the number of intercostal spaces due to the gap between the clavicle and the start of the rib cage. To avoid this, the patient’s sternum can be felt from the top down until contact is made with the ‘angle of Louis’ (figure 1.14). From here, the fourth intercostal space can be located by feeling diagonally down from the bottom of this point by two intercostal spaces.\n",
      "\n",
      "\n",
      "\n",
      "Figure 1.12: Electrode placed with tab facing towards torso.\n",
      "\n",
      "\n",
      "\n",
      "Figure 1.13: Electrode placed on wrist.\n",
      "\n",
      "\n",
      "\n",
      "Figure 1.14: The angle of Louis.\n",
      "\n",
      "The next electrode to be placed is V2, this is positioned in the same horizontal line as V1 but on the opposite side of the sternum. Next to be positioned is V4, this is done out of sequence as the position of V3 is relative to that of V4. The V4 electrode is placed in the 5th intercostal space in line with the middle of the clavicle (figure 1.15) this is normally located approximately just under the left nipple.\n",
      "\n",
      "Now V3 can be positioned, diagonally in between V2 and V4. The V5 electrode is then placed in line with the anterior axilla line and V6 in line with the middle of the armpit (figure 1.16).\n",
      "\n",
      "\n",
      "Figure 1.15: Electrode position for V4 (5th intercostal space/mid\n",
      "clavicular line).\n",
      "\n",
      "\n",
      "\n",
      "Figure 1.16: Electrode positions for V3, V5 and V6.\n",
      "\n",
      "Women\n",
      "There is sometimes confusion about the electrode positions in the case of women due to the breast tissue. If the breast tissue is relatively thin or there is a considerable breast droop, then the electrodes may be placed on top of the breast. In most cases and certainly with younger women the electrodes are placed in exactly the same positions, with the exception of V4 which is placed under the breast, taking due care to maintain dignity and seek consent prior to placement. The cables can then be attached to the electrode pads.\n",
      "\n",
      "\n",
      "\n",
      "Figure 1.17: Electrode positions V1 - V6.\n",
      "\n",
      "\n",
      "Attaching the cables\n",
      "When attaching the leads to the electrodes:\n",
      "• Be wary of pinching the patient’s skin\n",
      "• Pressing down on the top of the electrode helps to lift the tab, making it easier to attach the clip\n",
      "• Make sure the cables are not twisted or dangling over the edge of the bed. The patient should be encouraged to relax their arms, shoulders, neck and head prior to recording as this can cause interference on the ECG tracing.\n",
      "\n",
      "\n",
      "\n",
      "Figure 1.18: Attaching of cables to electrode sites.\n",
      "\n",
      "\n",
      "\n",
      "Figure 1.19: The cables can be attached to the electrode tabs.\n",
      "\n",
      "\n",
      "Figure 1.20: Attaching chest leads.\n",
      "\n",
      "\n",
      "\n",
      "\n",
      "\n",
      "\n",
      "\n",
      "\n",
      "\n",
      "\n",
      "\n",
      "\n",
      "The machine\n",
      "There are many different types of 12-lead ECG recording device. Most share similar features. Specific details can be found in the operator’s manual that comes with the ECG machine.\n",
      "\n",
      "Check the machine to ensure all leads are being recorded. On modern machines the tracing can be seen on the monitor, older machines usually\n",
      "have a light which activates if a lead is not being recorded. In such an event, recheck the electrodes are still attached to the patient and\n",
      "the clips are attached to the electrodes.\n",
      "\n",
      "It is also important to ensure that the machine is running at the standard calibration and speed and to adjust them as necessary if they are not.\n",
      "\n",
      "\n",
      "\n",
      "\n",
      "\n",
      "The patient should then be asked to lie still and not move or speak until instructed. This will aid in recording a good quality ECG, and reduce potential interference on the recording.\n",
      "\n",
      "\n",
      "What to write on the ECG\n",
      "If you have recorded an ECG it is helpful for diagnosis and/or future reference to document certain pieces of information on the ECG including:\n",
      "• Patients name, sex, DOB and hospital ID number\n",
      "• The date and time recorded\n",
      "• Any relevant observations or symptoms i.e. patient’s blood pressure, heart rate or symptoms i.e. ‘chest pain > 30 minutes’, ‘palpitations’\n",
      "• Any alterations to recording or position i.e. ‘patient sat upright’.\n",
      "\n",
      "Quiz\n",
      "Q1. The V4 electrode should be positioned…\n",
      "A) 4th intercostal space mid-clavicular line\n",
      "B) 5th intercostal space mid-clavicular line\n",
      "C) 5th intercostal space mid-axilla\n",
      "\n",
      "Q2. The neutral lead ‘N’ must be placed on the right leg\n",
      "A) True\n",
      "B) False\n",
      "\n",
      "Q3. The specialised cells of the conduction system are said to possess…\n",
      "A) Extra electricity\n",
      "B) Action potentials\n",
      "C) Automaticity\n",
      "\n",
      "Q4. How many fascicles does the left bundle branch have?\n",
      "A) 2\n",
      "B) 3\n",
      "C) 1\n",
      "\n",
      "Q5. What should be documented on the ECG after recording?\n",
      "A) Patients name, DOB and unit number\n",
      "B) Relevant observations and symptoms\n",
      "C) Date and time of recording\n",
      "D) All of the above\n",
      "\n",
      "Q6. The ECG is best recorded with the patient…\n",
      "A) Laid down\n",
      "B) Sat bolt upright\n",
      "\n",
      "Answers: Q1=B, Q2=B, Q3=C, Q4=A, Q5=D, Q6=A\n",
      "\n",
      "Summary of key points\n",
      "Accuracy in electrode positioning is vital for a good quality diagnostic ECG.\n",
      "Patients should be relaxed and informed prior to the recording of an ECG, and dignity maintained throughout.\n",
      "Relevant information should be documented on the ECG about the patient, including identifying details, symptoms and observations\n",
      "along with the date and time of the recording.\n",
      "As a backup system, any part of the conduction system can take over the role as primary pacemaker. The lower down the conduction system the slower the rate.\n",
      "It is important to ensure that the cables are attached correctly to the electrodes with no twisting or dangling.\n",
      "\n",
      "\n",
      "\n",
      "\n",
      "\n",
      "\n",
      "\n",
      "\n",
      "\n",
      "\n",
      "\n",
      "\n",
      "\n"
     ]
    }
   ],
   "source": [
    "for para in doc.paragraphs:\n",
    "    print(para.text)"
   ]
  },
  {
   "cell_type": "markdown",
   "metadata": {},
   "source": [
    "You may also want to work with Portable Document Format (PDF) file. We included a PDF from a paper shown below. We can load this into Python using the <code>PyPDF2</code> module."
   ]
  },
  {
   "cell_type": "markdown",
   "metadata": {},
   "source": [
    "<img src=\"./intro_images/reviews.PNG\" width=\"30%\" align=\"left\" />"
   ]
  },
  {
   "cell_type": "code",
   "execution_count": 43,
   "metadata": {},
   "outputs": [],
   "source": [
    "import PyPDF2"
   ]
  },
  {
   "cell_type": "markdown",
   "metadata": {},
   "source": [
    "The short snippet below opens the PDF document for reading binary. We can do things like print the number of pages and display the first page with <code>getPage</code>."
   ]
  },
  {
   "cell_type": "code",
   "execution_count": 45,
   "metadata": {},
   "outputs": [
    {
     "name": "stdout",
     "output_type": "stream",
     "text": [
      "7\n",
      "1008\n",
      " \n",
      "\n",
      " British Journal of Nursing, 2019, Vol 28, No 15\n",
      " © 2019 MA Healthcare Ltd\n",
      "\n",
      "S\n",
      "ince their inception  in the late 1970s, systematic \n",
      "\n",
      "reviews have gained influence in the health \n",
      "\n",
      "professions (Hanley and Cutts, 2013). Systematic \n",
      "\n",
      "reviews and meta-analyses are considered to be \n",
      "\n",
      "the most credible and authoritative sources of \n",
      "\n",
      "evidence available (Cognetti et al, 2015) and are regarded as \n",
      "\n",
      "the pinnacle of evidence in the various ‘hierarchies of evidence’. \n",
      "\n",
      "Reviews published in the Cochrane Library (https://www.\n",
      "cochranelibrary.com) are widely considered to be the ‘gold’ \n",
      "\n",
      "standard. Since Guyatt et al (1995) presented a users’ guide to \n",
      "\n",
      "medical literature for the Evidence-Based Medicine Working \n",
      "\n",
      "Group, various hierarchies of evidence have been proposed. \n",
      "\n",
      "\n",
      "Figure 1\n",
      " illustrates an example. \n",
      "\n",
      "Systematic reviews can be qualitative or quantitative. One of \n",
      "\n",
      "the criticisms levelled at hierarchies such as these is that qualitative \n",
      "\n",
      "research is often positioned towards or even is at the bottom of \n",
      "\n",
      "the pyramid, thus implying that it is of little evidential value. This \n",
      "\n",
      "may be because of traditional issues concerning the quality of \n",
      "\n",
      "some qualitative work, although it is now widely recognised that \n",
      "\n",
      "both quantitative and qualitative research methodologies have a \n",
      "\n",
      " Carrying out systematic literature \n",
      "\n",
      "reviews: an introduction\n",
      "\n",
      "Alan Davies\n",
      "\n",
      "\n",
      "ABSTRACT\n",
      "\n",
      "\n",
      "Systematic reviews provide a synthesis of evidence for a specific topic \n",
      "of interest, summarising the results of multiple studies to aid in clinical \n",
      "decisions and resource allocation. They remain among the best forms \n",
      "of evidence, and reduce the bias inherent in other methods. A solid \n",
      "understanding of the systematic review process can be of benefit to nurses \n",
      "that carry out such reviews, and for those who make decisions based on \n",
      "them. An overview of the main steps involved in carrying out a systematic \n",
      "review is presented, including some of the common tools and frameworks \n",
      "utilised in this area. This should provide a good starting point for those that \n",
      "are considering embarking on such work, and to aid readers of such reviews \n",
      "in their understanding of the main review components, in order to appraise \n",
      "the quality of a review that may be used to inform subsequent clinical \n",
      "decision making.\n",
      "\n",
      "Key words:\n",
      " Health care education \n",
      "■\n",
      " Nursing education \n",
      "■\n",
      " Nursing \n",
      "research \n",
      "■\n",
      " Nursing evaluation research \n",
      "■\n",
      " Health care roles\n",
      "\n",
      "Alan Davies\n",
      ", Lecturer in Health Data Science, School of Health \n",
      "Sciences, University of Manchester, Manchester, alan.davies-2@\n",
      "manchester.ac.uk\n",
      "\n",
      "Accepted for publication\n",
      ": June 2019\n",
      "\n",
      " valuable part to play in answering research questions, which is \n",
      "\n",
      "reflected by the National Institute for Health and Care Excellence \n",
      "\n",
      "(NICE) information concerning methods for developing public \n",
      "health guidance. The NICE (2012) guidance highlights how both \n",
      "\n",
      "qualitative and quantitative study designs can be used to answer \n",
      "\n",
      "different research questions. In a revised version of the hierarchy-\n",
      "\n",
      "of-evidence pyramid, the systematic review is considered as the \n",
      "\n",
      "lens through which the evidence is viewed, rather than being \n",
      "\n",
      "at the top of the pyramid (Murad et al, 2016).\n",
      "\n",
      "Both quantitative and qualitative research methodologies \n",
      "\n",
      "are sometimes combined in a single review. According \n",
      "\n",
      "to the Cochrane review handbook (Higgins and Green, \n",
      "\n",
      "2011), regardless of type, reviews should contain certain \n",
      "\n",
      "features, including:\n",
      "\n",
      "\n",
      " \n",
      "■\n",
      "Clearly stated objectives \n",
      "\n",
      " \n",
      "■\n",
      "\n",
      "Predefined eligibility criteria for inclusion or exclusion of \n",
      "\n",
      "studies in the review\n",
      "\n",
      " \n",
      "■\n",
      "A reproducible and clearly stated methodology \n",
      "\n",
      " \n",
      "■\n",
      "\n",
      "Validity assessment of included studies (eg quality, risk, \n",
      "\n",
      "bias etc).\n",
      "\n",
      "The main stages of carrying out a systematic review are \n",
      "\n",
      "summarised in \n",
      "Box 1\n",
      ".\n",
      "\n",
      "Formulating the research question\n",
      "\n",
      "\n",
      "Before undertaking a systemic review, a research question \n",
      "\n",
      "should first be formulated (Bashir and Conlon, 2018). There \n",
      "\n",
      "are a number of tools/frameworks (\n",
      " Table 1\n",
      " ) to support this \n",
      "\n",
      "process, including the PICO/PICOS, PEO and SPIDER \n",
      "\n",
      "criteria (Bowers et al, 2011). These frameworks are designed \n",
      "\n",
      "to help break down the question into relevant subcomponents \n",
      "\n",
      "and map them to concepts, in order to derive a formalised \n",
      "\n",
      "search criterion (Methley et al, 2014). This stage is essential for \n",
      "\n",
      "finding literature relevant to the question (Jahan et al, 2016). \n",
      "\n",
      "It is advisable to first check that the review you plan to \n",
      "\n",
      "carry out has not already been undertaken. You can optionally \n",
      "\n",
      "register your review with an international register of prospective \n",
      "\n",
      "reviews called PROSPERO, although this is not essential for \n",
      "\n",
      "publication. This is done to help you and others to locate work \n",
      "and see what reviews have already been carried out in the same \n",
      "area. It also prevents needless duplication and instead encourages \n",
      "\n",
      "building on existing work (Bashir and Conlon, 2018).\n",
      "\n",
      "A study (Methley et al, 2014) that compared PICO, \n",
      "\n",
      "PICOS and SPIDER in relation to sensitivity and specificity \n",
      "\n",
      "recommended that the PICO tool be used for a comprehensive \n",
      "\n",
      "search and the PICOS tool when time/resources are limited. \n",
      " Downloaded from magonlinelibrary.com by 090.202.021.000 on August 9, 2019.\n",
      " \n"
     ]
    }
   ],
   "source": [
    "pdf_file = open(\"./file_handling/B/Sytematic reviews.pdf\", \"rb\")\n",
    "pdf_reader = PyPDF2.PdfFileReader(pdf_file)\n",
    "print(pdf_reader.numPages)\n",
    "pdf_page = pdf_reader.getPage(0)\n",
    "print(pdf_page.extractText())\n",
    "pdf_file.close()"
   ]
  },
  {
   "cell_type": "markdown",
   "metadata": {},
   "source": [
    "The final example shows how we can load Comma Separated Value (CSV) files with the <code>pandas</code> module. This is frequently used for data science and data analysis as we can load data from files in to a data frame object that lets us display and work with data tables."
   ]
  },
  {
   "cell_type": "code",
   "execution_count": 46,
   "metadata": {},
   "outputs": [
    {
     "data": {
      "text/html": [
       "<div>\n",
       "<style scoped>\n",
       "    .dataframe tbody tr th:only-of-type {\n",
       "        vertical-align: middle;\n",
       "    }\n",
       "\n",
       "    .dataframe tbody tr th {\n",
       "        vertical-align: top;\n",
       "    }\n",
       "\n",
       "    .dataframe thead th {\n",
       "        text-align: right;\n",
       "    }\n",
       "</style>\n",
       "<table border=\"1\" class=\"dataframe\">\n",
       "  <thead>\n",
       "    <tr style=\"text-align: right;\">\n",
       "      <th></th>\n",
       "      <th>name</th>\n",
       "      <th>candidate_number</th>\n",
       "      <th>score</th>\n",
       "    </tr>\n",
       "  </thead>\n",
       "  <tbody>\n",
       "    <tr>\n",
       "      <th>0</th>\n",
       "      <td>Adam West</td>\n",
       "      <td>124532</td>\n",
       "      <td>56</td>\n",
       "    </tr>\n",
       "    <tr>\n",
       "      <th>1</th>\n",
       "      <td>Paul Bradley</td>\n",
       "      <td>543433</td>\n",
       "      <td>62</td>\n",
       "    </tr>\n",
       "    <tr>\n",
       "      <th>2</th>\n",
       "      <td>Suzzane Smith</td>\n",
       "      <td>445342</td>\n",
       "      <td>71</td>\n",
       "    </tr>\n",
       "    <tr>\n",
       "      <th>3</th>\n",
       "      <td>Wiktoria Chleb</td>\n",
       "      <td>654257</td>\n",
       "      <td>66</td>\n",
       "    </tr>\n",
       "    <tr>\n",
       "      <th>4</th>\n",
       "      <td>Paulina Westbury</td>\n",
       "      <td>543254</td>\n",
       "      <td>77</td>\n",
       "    </tr>\n",
       "    <tr>\n",
       "      <th>5</th>\n",
       "      <td>David Green</td>\n",
       "      <td>541663</td>\n",
       "      <td>51</td>\n",
       "    </tr>\n",
       "    <tr>\n",
       "      <th>6</th>\n",
       "      <td>Harrold Grund</td>\n",
       "      <td>765332</td>\n",
       "      <td>48</td>\n",
       "    </tr>\n",
       "  </tbody>\n",
       "</table>\n",
       "</div>"
      ],
      "text/plain": [
       "               name  candidate_number  score\n",
       "0         Adam West            124532     56\n",
       "1      Paul Bradley            543433     62\n",
       "2     Suzzane Smith            445342     71\n",
       "3    Wiktoria Chleb            654257     66\n",
       "4  Paulina Westbury            543254     77\n",
       "5       David Green            541663     51\n",
       "6     Harrold Grund            765332     48"
      ]
     },
     "execution_count": 46,
     "metadata": {},
     "output_type": "execute_result"
    }
   ],
   "source": [
    "import pandas as pd\n",
    "exam_data = pd.read_csv(\"./file_handling/B/exam data.csv\")\n",
    "exam_data"
   ]
  },
  {
   "cell_type": "markdown",
   "metadata": {},
   "source": [
    "The important take away here is that for most common file types, Python has a module that can be used to work with them."
   ]
  },
  {
   "cell_type": "markdown",
   "metadata": {},
   "source": [
    "We can also use additional libraries such as <code>tkinter</code>. The code below opens a file loading dialog box (this may appear behind other windows if you have multiple windows open). Here you can select a file and once selected the file path will be output. This can be used to create programs where the user can select a file to open."
   ]
  },
  {
   "cell_type": "code",
   "execution_count": 2,
   "metadata": {
    "tags": []
   },
   "outputs": [
    {
     "name": "stdout",
     "output_type": "stream",
     "text": [
      "C:/Users/Alan_Davies/Documents/uxd marking table.docx\n"
     ]
    }
   ],
   "source": [
    "import tkinter as tk\n",
    "from tkinter import filedialog\n",
    "\n",
    "root = tk.Tk()\n",
    "root.withdraw()\n",
    "\n",
    "file_path = filedialog.askopenfilename()\n",
    "print(file_path)"
   ]
  },
  {
   "cell_type": "markdown",
   "metadata": {},
   "source": [
    "<a id=\"nav\"></a>\n",
    "#### 11.4 Navigating the file system"
   ]
  },
  {
   "cell_type": "markdown",
   "metadata": {},
   "source": [
    "As you can see, to use files we also have to be comfortable with navigating through files and folders. One very useful module for this is the <code>os</code> (operating system) module."
   ]
  },
  {
   "cell_type": "code",
   "execution_count": 3,
   "metadata": {
    "tags": []
   },
   "outputs": [],
   "source": [
    "import os"
   ]
  },
  {
   "cell_type": "markdown",
   "metadata": {},
   "source": [
    "Below is an example of 'walking' through the file/folder structure from a root folder. In this case we start at the <code>file_handling</code> relative to this notebook. We loop over the various files and folders."
   ]
  },
  {
   "cell_type": "code",
   "execution_count": 50,
   "metadata": {
    "tags": []
   },
   "outputs": [
    {
     "name": "stdout",
     "output_type": "stream",
     "text": [
      "Root =  ./file_handling/\n",
      "Dirs =  ['A', 'B']\n",
      "Files = ['mytestfile.txt', 'Something in the way.txt']\n",
      "Root =  ./file_handling/A\n",
      "Dirs =  ['C']\n",
      "Files = ['American Pie.txt', 'Silk.txt']\n",
      "Root =  ./file_handling/A\\C\n",
      "Dirs =  []\n",
      "Files = ['Zombie.txt']\n",
      "Root =  ./file_handling/B\n",
      "Dirs =  []\n",
      "Files = ['Chapter 1.docx', 'exam data.csv', 'health_record.json', 'health_record.pkl', 'Sytematic reviews.pdf']\n"
     ]
    }
   ],
   "source": [
    "data_path = \"./file_handling/\"\n",
    "for root, dirs, files in os.walk(data_path):\n",
    "    print(\"Root = \", root)\n",
    "    print(\"Dirs = \", dirs)\n",
    "    print(\"Files =\", files)"
   ]
  },
  {
   "cell_type": "markdown",
   "metadata": {},
   "source": [
    "Another useful bit of functionality is the ability to detect if a file exists or not. We could use this to check for the presence of a file before creating or opening it to avoid errors. We do this with <code>os.path.exists</code>. "
   ]
  },
  {
   "cell_type": "markdown",
   "metadata": {},
   "source": [
    "In the example below we check for the presence of the file <code>./file_handling/mytestfile.txt</code> with an <code>if</code> statement. If found we display the message <code>The file exists!</code> otherwise <code>File not found</code>."
   ]
  },
  {
   "cell_type": "code",
   "execution_count": 6,
   "metadata": {},
   "outputs": [
    {
     "name": "stdout",
     "output_type": "stream",
     "text": [
      "The file exists!\n"
     ]
    }
   ],
   "source": [
    "test_file_path = \"./file_handling/mytestfile.txt\"\n",
    "if(os.path.exists(test_file_path)):\n",
    "    print(\"The file exists!\")\n",
    "else:\n",
    "    print(\"File not found\")"
   ]
  },
  {
   "cell_type": "markdown",
   "metadata": {},
   "source": [
    "We can also use it to do things like list the files and folders in a directory."
   ]
  },
  {
   "cell_type": "code",
   "execution_count": 51,
   "metadata": {
    "jupyter": {
     "outputs_hidden": true
    }
   },
   "outputs": [
    {
     "data": {
      "text/plain": [
       "['A', 'B', 'mytestfile.txt', 'Something in the way.txt']"
      ]
     },
     "execution_count": 51,
     "metadata": {},
     "output_type": "execute_result"
    }
   ],
   "source": [
    "os.listdir(data_path)"
   ]
  },
  {
   "cell_type": "markdown",
   "metadata": {},
   "source": [
    "<div class=\"alert alert-success\">\n",
    "    <b>Note:</b> You can find out more about the <code>os</code> module <a href=\"https://python101.pythonlibrary.org/chapter16_os.html\" target=\"_blank\">here</a>. \n",
    "</div>"
   ]
  },
  {
   "cell_type": "markdown",
   "metadata": {
    "solution2": "hidden",
    "solution2_first": true,
    "tags": []
   },
   "source": [
    "<div class=\"alert alert-block alert-info\">\n",
    "<b>Task 5:</b>\n",
    "<br> \n",
    "Let's see if we can pull some of this together.<br>\n",
    "1. Using <code>tkinter</code> let the user select a <code>CSV</code> file.<br>\n",
    "2. Use the <code>os</code> functions to check if the file exists or not.<br>\n",
    "3. Open the <code>CSV</code> file with the <code>pandas</code> library and display the contents.<br><br>\n",
    "    <strong>Hint:</strong> You can try to load the <code>exam data.csv</code> file from earlier. \n",
    "</div>"
   ]
  },
  {
   "cell_type": "code",
   "execution_count": 9,
   "metadata": {
    "solution2": "hidden"
   },
   "outputs": [
    {
     "name": "stdout",
     "output_type": "stream",
     "text": [
      "               name  candidate_number  score\n",
      "0         Adam West            124532     56\n",
      "1      Paul Bradley            543433     62\n",
      "2     Suzzane Smith            445342     71\n",
      "3    Wiktoria Chleb            654257     66\n",
      "4  Paulina Westbury            543254     77\n",
      "5       David Green            541663     51\n",
      "6     Harrold Grund            765332     48\n"
     ]
    }
   ],
   "source": [
    "import os\n",
    "import pandas as pd\n",
    "import tkinter as tk\n",
    "from tkinter import filedialog\n",
    "\n",
    "root = tk.Tk()\n",
    "root.withdraw()\n",
    "\n",
    "file_path = filedialog.askopenfilename()\n",
    "if(os.path.exists(file_path)):\n",
    "    exam = pd.read_csv(file_path)\n",
    "    print(exam)\n",
    "else:\n",
    "    print(\"File not found\")"
   ]
  },
  {
   "cell_type": "code",
   "execution_count": null,
   "metadata": {},
   "outputs": [],
   "source": []
  },
  {
   "cell_type": "markdown",
   "metadata": {},
   "source": [
    "### Notebook details\n",
    "<br>\n",
    "<i>Notebook created by <strong>Dr. Alan Davies</strong>.\n",
    "<br>\n",
    "&copy; Alan Davies 2022"
   ]
  },
  {
   "cell_type": "markdown",
   "metadata": {},
   "source": [
    "## Notes:"
   ]
  },
  {
   "cell_type": "code",
   "execution_count": null,
   "metadata": {},
   "outputs": [],
   "source": []
  },
  {
   "cell_type": "code",
   "execution_count": null,
   "metadata": {},
   "outputs": [],
   "source": []
  },
  {
   "cell_type": "code",
   "execution_count": null,
   "metadata": {},
   "outputs": [],
   "source": []
  }
 ],
 "metadata": {
  "hide_input": false,
  "kernelspec": {
   "display_name": "Python 3 (ipykernel)",
   "language": "python",
   "name": "python3"
  },
  "language_info": {
   "codemirror_mode": {
    "name": "ipython",
    "version": 3
   },
   "file_extension": ".py",
   "mimetype": "text/x-python",
   "name": "python",
   "nbconvert_exporter": "python",
   "pygments_lexer": "ipython3",
   "version": "3.9.12"
  }
 },
 "nbformat": 4,
 "nbformat_minor": 4
}
