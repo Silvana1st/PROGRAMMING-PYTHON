{
 "cells": [
  {
   "cell_type": "markdown",
   "metadata": {},
   "source": [
    "<img src=\"./intro_images/MIE.PNG\" alt=\"notebook banner image\" width=\"100%\" align=\"left\" />"
   ]
  },
  {
   "cell_type": "markdown",
   "metadata": {},
   "source": [
    "<table style=\"float:right;\">\n",
    "    <tr>\n",
    "        <td>                      \n",
    "            <div style=\"text-align: right\"><a href=\"https://alandavies.netlify.com\" target=\"_blank\">Dr Alan Davies</a></div>\n",
    "            <div style=\"text-align: right\">Senior Lecturer Health Data Science</div>\n",
    "            <div style=\"text-align: right\">University of Manchester</div>\n",
    "         </td>\n",
    "         <td>\n",
    "             <img src=\"./intro_images/alan.PNG\" alt=\"Alan Davies Photo\" width=\"30%\" />\n",
    "         </td>\n",
    "     </tr>\n",
    "</table>"
   ]
  },
  {
   "cell_type": "markdown",
   "metadata": {},
   "source": [
    "# 7.0 Functions\n",
    "****"
   ]
  },
  {
   "cell_type": "markdown",
   "metadata": {},
   "source": [
    "#### About this Notebook\n",
    "This notebook introduces creating our own <code>functions</code> that can be used to write modular reusable code. We also introduce the concept of <code>recursion</code> where we can call a function from within itself."
   ]
  },
  {
   "cell_type": "markdown",
   "metadata": {},
   "source": [
    "<div class=\"alert alert-block alert-warning\"><b>Learning Objectives:</b> \n",
    "<br/> At the end of this notebook you will be able to:\n",
    "    \n",
    "- Explore how we can write our own custom functions to carry out specific tasks\n",
    "\n",
    "- Explore the concept of recursion\n",
    "\n",
    "</div> "
   ]
  },
  {
   "cell_type": "markdown",
   "metadata": {},
   "source": [
    "<a id=\"top\"></a>\n",
    "\n",
    "<b>Table of contents</b><br>\n",
    "\n",
    "7.1 [Function comments](#funccomments)\n",
    "\n",
    "7.2 [Variable scope](#scope)\n",
    "\n",
    "7.3 [Anonymous functions](#anon)\n",
    "\n",
    "7.4 [Recursion](#recursion)\n",
    "\n",
    "7.5 [Decorators](#decs)\n",
    "\n",
    "7.6 [Annotations](#annotations)"
   ]
  },
  {
   "cell_type": "markdown",
   "metadata": {},
   "source": [
    "We have already been using functions in Python. For example <code>print()</code> is a function, as is <code>len()</code> and <code>range()</code>. We use functions to make our code more modular and to contain code that we may need to repeat several times. We also use functions to carry out specific tasks. For example to convert the temperature between different units. To make a function in Python we use the <code>def</code> (define) keyword followed by a function name (as with variables try to make this descriptive of what the function does). We can also provide any parameters that we may want to pass into a function. Functions can optionally take input values and return an output."
   ]
  },
  {
   "cell_type": "markdown",
   "metadata": {},
   "source": [
    "<div class=\"alert alert-success\">\n",
    "<b>Note:</b> Parameters are variables that we can pass into a function for the function to process internally. Parameters are optional. Not all functions have parameters.\n",
    "</div>"
   ]
  },
  {
   "cell_type": "code",
   "execution_count": 2,
   "metadata": {
    "collapsed": true,
    "jupyter": {
     "outputs_hidden": true
    }
   },
   "outputs": [],
   "source": [
    "def my_hello_function():\n",
    "    print(\"Hello world!!\")"
   ]
  },
  {
   "cell_type": "markdown",
   "metadata": {},
   "source": [
    "You will notice when you run the cell above that nothing happens. This is because to run the code contained within a function we need to first <code>call</code> the function. We do this by using the functions name followed by the parenthesis (round brackets). All the code indented after the colon belongs to the function and will only execute (run) when the function is called."
   ]
  },
  {
   "cell_type": "code",
   "execution_count": 3,
   "metadata": {},
   "outputs": [
    {
     "name": "stdout",
     "output_type": "stream",
     "text": [
      "Hello world!!\n"
     ]
    }
   ],
   "source": [
    "my_hello_function()"
   ]
  },
  {
   "cell_type": "markdown",
   "metadata": {},
   "source": [
    "We can pass variables (parameters) to a function so that the values can be used internally by the function. For example we could extend the function to take a string input value and display that message instead of a hard coded one. "
   ]
  },
  {
   "cell_type": "code",
   "execution_count": 4,
   "metadata": {
    "collapsed": true,
    "jupyter": {
     "outputs_hidden": true
    }
   },
   "outputs": [],
   "source": [
    "def display_message(msg):\n",
    "    print(msg)"
   ]
  },
  {
   "cell_type": "markdown",
   "metadata": {},
   "source": [
    "Now we can pass in a custom message as shown below. essentially we have just created a wrapper function for the <code>print()</code> function. In this case if we do not do any other preprocessing to the input, there is no advantages to doing this over just using <code>print()</code>."
   ]
  },
  {
   "cell_type": "code",
   "execution_count": 5,
   "metadata": {},
   "outputs": [
    {
     "name": "stdout",
     "output_type": "stream",
     "text": [
      "Say Hi\n",
      "Say something else\n"
     ]
    }
   ],
   "source": [
    "display_message(\"Say Hi\")\n",
    "display_message(\"Say something else\")"
   ]
  },
  {
   "cell_type": "markdown",
   "metadata": {},
   "source": [
    "We could improve this by turning it into a simple logging function that add the date and time to the message that is passed in as a parameter:"
   ]
  },
  {
   "cell_type": "code",
   "execution_count": 3,
   "metadata": {},
   "outputs": [],
   "source": [
    "def display_logger(msg):\n",
    "    from datetime import datetime\n",
    "    today = datetime.today().strftime('%Y-%m-%d-%H:%M:%S')\n",
    "    print(today + \": \" + msg)"
   ]
  },
  {
   "cell_type": "code",
   "execution_count": 4,
   "metadata": {},
   "outputs": [
    {
     "name": "stdout",
     "output_type": "stream",
     "text": [
      "2021-02-25-10:46:15: Write a log message!\n"
     ]
    }
   ],
   "source": [
    "display_logger(\"Write a log message!\")"
   ]
  },
  {
   "cell_type": "markdown",
   "metadata": {},
   "source": [
    "We can also pass in multiple values to functions separating them with commas (<code>,</code>)."
   ]
  },
  {
   "cell_type": "code",
   "execution_count": 6,
   "metadata": {},
   "outputs": [
    {
     "name": "stdout",
     "output_type": "stream",
     "text": [
      "Name:  Dave\n",
      "Age:  56\n"
     ]
    }
   ],
   "source": [
    "def print_person_data(persons_name, persons_age):\n",
    "    print(\"Name: \", persons_name)\n",
    "    print(\"Age: \", persons_age)\n",
    "    \n",
    "print_person_data(\"Dave\", 56)"
   ]
  },
  {
   "cell_type": "markdown",
   "metadata": {},
   "source": [
    "We can also <code>return</code> or pass back an output form our function. For example the outcome of a calculation that we might want to use later on."
   ]
  },
  {
   "cell_type": "code",
   "execution_count": 7,
   "metadata": {
    "collapsed": true,
    "jupyter": {
     "outputs_hidden": true
    }
   },
   "outputs": [],
   "source": [
    "def add_numbers(n1, n2):\n",
    "    return n1 + n2"
   ]
  },
  {
   "cell_type": "code",
   "execution_count": 8,
   "metadata": {},
   "outputs": [
    {
     "name": "stdout",
     "output_type": "stream",
     "text": [
      "7\n"
     ]
    }
   ],
   "source": [
    "answer = add_numbers(5, 2)\n",
    "print(answer)"
   ]
  },
  {
   "cell_type": "markdown",
   "metadata": {},
   "source": [
    "<div class=\"alert alert-success\">\n",
    "<b>Note:</b> Functions can have optional <code>input</code> (parameters) and <code>output</code> (return) values.\n",
    "</div>"
   ]
  },
  {
   "cell_type": "markdown",
   "metadata": {},
   "source": [
    "We can also cut out the step above of storing the returned value in a variable. This is inefficient if we don't need to use it again. Instead we could just print the output directly."
   ]
  },
  {
   "cell_type": "code",
   "execution_count": 19,
   "metadata": {},
   "outputs": [
    {
     "name": "stdout",
     "output_type": "stream",
     "text": [
      "7\n"
     ]
    }
   ],
   "source": [
    "print(add_numbers(5, 2))"
   ]
  },
  {
   "cell_type": "markdown",
   "metadata": {
    "solution2": "hidden",
    "solution2_first": true
   },
   "source": [
    "<div class=\"alert alert-block alert-info\">\n",
    "<b>Task 1:</b>\n",
    "<br> \n",
    "1. Create a list called <code>nums</code> with the following values 1, 4, 5, 2, 1, 6<br />\n",
    "2. Write a function called <code>avg</code> to return the average of these numbers (add up all the numbers and divide by the count)<br>\n",
    "You will need to use a loop for this.<br>\n",
    "$$\n",
    "\\frac{x_1 + x_2 + ... + x_n}{n}\n",
    "$$\n",
    "</div>"
   ]
  },
  {
   "cell_type": "code",
   "execution_count": null,
   "metadata": {
    "solution2": "hidden"
   },
   "outputs": [],
   "source": [
    "nums = [1, 4, 5, 2, 1, 6]\n",
    "\n",
    "def avg(nums):\n",
    "    total = 0\n",
    "    for number in nums:\n",
    "        total += number            # or total = total + number\n",
    "    return total / len(nums)\n",
    "    \n",
    "print(round(avg(nums), 3))"
   ]
  },
  {
   "cell_type": "code",
   "execution_count": null,
   "metadata": {
    "collapsed": true,
    "jupyter": {
     "outputs_hidden": true
    }
   },
   "outputs": [],
   "source": []
  },
  {
   "cell_type": "markdown",
   "metadata": {},
   "source": [
    "Another useful feature in Python is the ability to provide a default value for a function parameter. Let's say we wanted to write a function to output a workers name and job title. We might have a lot of scientists in the company, so we could set this as the default value."
   ]
  },
  {
   "cell_type": "code",
   "execution_count": 11,
   "metadata": {
    "collapsed": true,
    "jupyter": {
     "outputs_hidden": true
    }
   },
   "outputs": [],
   "source": [
    "def display_name_title(persons_name, persons_role = \"Scientist\"):\n",
    "    print(persons_role, persons_name)"
   ]
  },
  {
   "cell_type": "code",
   "execution_count": 12,
   "metadata": {},
   "outputs": [
    {
     "name": "stdout",
     "output_type": "stream",
     "text": [
      "Scientist Alan Smith\n"
     ]
    }
   ],
   "source": [
    "display_name_title(\"Alan Smith\")"
   ]
  },
  {
   "cell_type": "markdown",
   "metadata": {},
   "source": [
    "This automatically uses <code>Scientist</code> as the default role. But this can also be overridden by supplying a value, i.e:"
   ]
  },
  {
   "cell_type": "code",
   "execution_count": 13,
   "metadata": {},
   "outputs": [
    {
     "name": "stdout",
     "output_type": "stream",
     "text": [
      "Manager Paul Gantt\n"
     ]
    }
   ],
   "source": [
    "display_name_title(\"Paul Gantt\", \"Manager\")"
   ]
  },
  {
   "cell_type": "markdown",
   "metadata": {},
   "source": [
    "If we have a variable number of parameters that we want to use we can use the <code>args</code> keyword. Let's say we had team members and the number could be different."
   ]
  },
  {
   "cell_type": "code",
   "execution_count": 14,
   "metadata": {
    "collapsed": true,
    "jupyter": {
     "outputs_hidden": true
    }
   },
   "outputs": [],
   "source": [
    "def team_players(*args):\n",
    "    for arg in args:\n",
    "        print(arg)"
   ]
  },
  {
   "cell_type": "code",
   "execution_count": 15,
   "metadata": {},
   "outputs": [
    {
     "name": "stdout",
     "output_type": "stream",
     "text": [
      "Adam\n",
      "David\n",
      "Barry\n",
      "Steve\n"
     ]
    }
   ],
   "source": [
    "team_players(\"Adam\", \"David\", \"Barry\", \"Steve\")"
   ]
  },
  {
   "cell_type": "code",
   "execution_count": 16,
   "metadata": {},
   "outputs": [
    {
     "name": "stdout",
     "output_type": "stream",
     "text": [
      "Paul\n",
      "Stan\n"
     ]
    }
   ],
   "source": [
    "team_players(\"Paul\", \"Stan\")"
   ]
  },
  {
   "cell_type": "markdown",
   "metadata": {},
   "source": [
    "We can also pass in key, value pairs similar to how a dictionary works using the <code>kwargs</code> keyword (key word arguments):"
   ]
  },
  {
   "cell_type": "code",
   "execution_count": 17,
   "metadata": {
    "collapsed": true,
    "jupyter": {
     "outputs_hidden": true
    }
   },
   "outputs": [],
   "source": [
    "def team_data(**kwargs):\n",
    "    for key, value in kwargs.items():\n",
    "        print(key, \":\", value)"
   ]
  },
  {
   "cell_type": "code",
   "execution_count": 18,
   "metadata": {},
   "outputs": [
    {
     "name": "stdout",
     "output_type": "stream",
     "text": [
      "team_name : Liverpool Lions\n",
      "top_score : 56\n",
      "date_last_played : 02-03-2019\n"
     ]
    }
   ],
   "source": [
    "team_data(team_name = 'Liverpool Lions', top_score = 56, date_last_played = '02-03-2019')"
   ]
  },
  {
   "cell_type": "markdown",
   "metadata": {},
   "source": [
    "<div class=\"alert alert-success\">\n",
    "<b>Note:</b> For more than around 3 parameters we would typically use a data structure like a <code>list</code> or <code>dict</code> to keep the code cleaner and store the arguments we want to pass into a function rather than having a massive list of comma separated parameters. \n",
    "</div>"
   ]
  },
  {
   "cell_type": "markdown",
   "metadata": {
    "cell_style": "split"
   },
   "source": [
    "<img src=\"./intro_images/circ.PNG\" width=\"90%\" align=\"left\" />"
   ]
  },
  {
   "cell_type": "markdown",
   "metadata": {},
   "source": [
    "<div class=accessibility>\n",
    "<b>Accessibility:</b> The cell above illustrates an image of a circle. It also indicates the diameter and radius of the circle.\n",
    "</div>"
   ]
  },
  {
   "cell_type": "code",
   "execution_count": 24,
   "metadata": {
    "cell_style": "split"
   },
   "outputs": [
    {
     "name": "stdout",
     "output_type": "stream",
     "text": [
      "Circumference =  37.69911184307752\n",
      "Radius =  6.0\n",
      "Area = 113.09733552923255\n"
     ]
    }
   ],
   "source": [
    "import math\n",
    "\n",
    "diameter = 12\n",
    "\n",
    "def circles(d):\n",
    "    c = math.pi * d\n",
    "    r = d / 2\n",
    "    a = math.pi * r**2\n",
    "    \n",
    "    print(\"Circumference = \",c)\n",
    "    print(\"Radius = \",r)\n",
    "    print(\"Area =\", a)\n",
    "    \n",
    "circles(diameter)"
   ]
  },
  {
   "cell_type": "markdown",
   "metadata": {
    "solution2": "hidden",
    "solution2_first": true
   },
   "source": [
    "<div class=\"alert alert-block alert-info\">\n",
    "<b>Task 2:</b>\n",
    "<br>\n",
    "Regarding the function above that outputs the circumference, radius and area of a circle given a diameter.<br /> \n",
    "1. How could the function be redesigned to be more modular and reusable?<br />\n",
    "2. Have a go reimplementing this function as several smaller functions that carry out a specific task (i.e. one for circumference, area and radius).\n",
    "</div>"
   ]
  },
  {
   "cell_type": "code",
   "execution_count": 27,
   "metadata": {
    "solution2": "hidden"
   },
   "outputs": [
    {
     "name": "stdout",
     "output_type": "stream",
     "text": [
      "Circumference =  37.69911184307752\n",
      "Radius =  6.0\n",
      "Area = 113.09733552923255\n"
     ]
    }
   ],
   "source": [
    "import math\n",
    "\n",
    "def circle_circumference(d):\n",
    "    return math.pi * d\n",
    "\n",
    "def circle_radius(d):\n",
    "    return d / 2\n",
    "\n",
    "def circle_area(d):\n",
    "    return math.pi * (d/2)**2\n",
    "\n",
    "diameter = 12\n",
    "print(\"Circumference = \",circle_circumference(diameter))\n",
    "print(\"Radius = \",circle_radius(diameter))\n",
    "print(\"Area =\", circle_area(diameter))"
   ]
  },
  {
   "cell_type": "code",
   "execution_count": null,
   "metadata": {
    "collapsed": true,
    "jupyter": {
     "outputs_hidden": true
    }
   },
   "outputs": [],
   "source": []
  },
  {
   "cell_type": "markdown",
   "metadata": {},
   "source": [
    "<a id=\"funccomments\"></a>\n",
    "#### 7.1 Function comments"
   ]
  },
  {
   "cell_type": "markdown",
   "metadata": {},
   "source": [
    "It can be a good idea to provide function level comments to your code to explain what a function does. The level of detail is up to you. Here are two examples. The first is a lightweight approach the second provides more detail about the usage of the function. "
   ]
  },
  {
   "cell_type": "code",
   "execution_count": null,
   "metadata": {
    "jupyter": {
     "outputs_hidden": true
    }
   },
   "outputs": [],
   "source": [
    "# function to return result of addtion of two mumbers\n",
    "def add_two_nums(n1, n2):\n",
    "    return n1 + n2"
   ]
  },
  {
   "cell_type": "code",
   "execution_count": null,
   "metadata": {
    "collapsed": true,
    "jupyter": {
     "outputs_hidden": true
    }
   },
   "outputs": [],
   "source": [
    "# ---------------------------------------------------------------------------------\n",
    "# FUNCTION:     add_two_nums\n",
    "# INPUT:        int, int\n",
    "# OUTPUT:       int\n",
    "# DESCRIPTION:  Function to return result of addtion of two mumbers\n",
    "#               \n",
    "# ---------------------------------------------------------------------------------\n",
    "def add_two_nums(n1, n2):\n",
    "    return n1 + n2"
   ]
  },
  {
   "cell_type": "markdown",
   "metadata": {},
   "source": [
    "In Python there is a special convention for using comments with functions called a document string <code>docstring</code>. "
   ]
  },
  {
   "cell_type": "code",
   "execution_count": 30,
   "metadata": {
    "collapsed": true,
    "jupyter": {
     "outputs_hidden": true
    }
   },
   "outputs": [],
   "source": [
    "def add_two_nums(n1, n2):\n",
    "    \"\"\"Function to return result of addtion of two mumbers.\"\"\"\n",
    "    return n1 + n2"
   ]
  },
  {
   "cell_type": "markdown",
   "metadata": {},
   "source": [
    "The purpose is for use with the <code>help()</code> function that picks up and uses this information. "
   ]
  },
  {
   "cell_type": "code",
   "execution_count": 31,
   "metadata": {},
   "outputs": [
    {
     "name": "stdout",
     "output_type": "stream",
     "text": [
      "Help on function add_two_nums in module __main__:\n",
      "\n",
      "add_two_nums(n1, n2)\n",
      "    Function to return result of addtion of two mumbers.\n",
      "\n"
     ]
    }
   ],
   "source": [
    "help(add_two_nums)"
   ]
  },
  {
   "cell_type": "markdown",
   "metadata": {},
   "source": [
    "Or to view the docstring directly (there are 2 underscores either side of doc). "
   ]
  },
  {
   "cell_type": "code",
   "execution_count": 32,
   "metadata": {},
   "outputs": [
    {
     "name": "stdout",
     "output_type": "stream",
     "text": [
      "Function to return result of addtion of two mumbers.\n"
     ]
    }
   ],
   "source": [
    "print(add_two_nums.__doc__)"
   ]
  },
  {
   "cell_type": "markdown",
   "metadata": {},
   "source": [
    "<div class=\"alert alert-success\">\n",
    "<b>Note:</b> The double underscores in Python are called <code>dunder's</code> (double underscores). You will come across this term in the Python literature.\n",
    "</div>"
   ]
  },
  {
   "cell_type": "markdown",
   "metadata": {},
   "source": [
    "There are various different styles used for multi-line docstrings you can use, such as the Numpy style."
   ]
  },
  {
   "cell_type": "code",
   "execution_count": 34,
   "metadata": {
    "collapsed": true,
    "jupyter": {
     "outputs_hidden": true
    }
   },
   "outputs": [],
   "source": [
    "def add_two_nums(n1, n2):\n",
    "    \"\"\"\n",
    "    Function to return result of addtion of two mumbers\n",
    "    \n",
    "    Parameters\n",
    "    ----------\n",
    "    n1 : int\n",
    "        The first number\n",
    "    n2 : int\n",
    "        The second number\n",
    "    \n",
    "    Returns\n",
    "    -------\n",
    "    n1 + n2\n",
    "        The sum of n1 + n2\n",
    "    \"\"\"\n",
    "    return n1 + n2"
   ]
  },
  {
   "cell_type": "code",
   "execution_count": 35,
   "metadata": {},
   "outputs": [
    {
     "name": "stdout",
     "output_type": "stream",
     "text": [
      "Help on function add_two_nums in module __main__:\n",
      "\n",
      "add_two_nums(n1, n2)\n",
      "    Function to return result of addtion of two mumbers\n",
      "    \n",
      "    Parameters\n",
      "    ----------\n",
      "    n1 : int\n",
      "        The first number\n",
      "    n2 : int\n",
      "        The second number\n",
      "    \n",
      "    Returns\n",
      "    -------\n",
      "    n1 + n2\n",
      "        The sum of n1 + n2\n",
      "\n"
     ]
    }
   ],
   "source": [
    "help(add_two_nums)"
   ]
  },
  {
   "cell_type": "markdown",
   "metadata": {},
   "source": [
    "Of course you don't have to add comments to your functions but picking a consistent method and using it to document your functions increases the readability of your code, especially for large programs with multiple contributors. This will save people having to read the code to try and work out what the function does. Combining this documentation with clear and descriptive variable and function names is very helpful to aid others (and yourself if you return to the code later) in understanding what your function does and how it is intended to be used. "
   ]
  },
  {
   "cell_type": "markdown",
   "metadata": {
    "solution2": "hidden",
    "solution2_first": true
   },
   "source": [
    "<div class=\"alert alert-block alert-info\">\n",
    "<b>Task 3:</b>\n",
    "<br> \n",
    "1. Write a function to calculate Body Mass Index (BMI) $$BMI = w \\div h^2 $$ This is the weight in kilograms divided by the height in meters squared. The height and weight should be parameters passed to the function.<br />\n",
    "2. Using <code>if</code> statements in the function - print out the weight classification: less than 18.5 is underweight, between 18.5 and 24.9 is healthy weight and more than 24.9 is overweight.\n",
    "</div>"
   ]
  },
  {
   "cell_type": "code",
   "execution_count": 45,
   "metadata": {
    "solution2": "hidden"
   },
   "outputs": [
    {
     "name": "stdout",
     "output_type": "stream",
     "text": [
      "BMI = 31\n",
      "Overweight\n"
     ]
    }
   ],
   "source": [
    "def calculate_BMI(weight_kg, height_m):\n",
    "    BMI = weight_kg / height_m**2\n",
    "    print(\"BMI =\", round(BMI))\n",
    "    if BMI < 18.5:\n",
    "        print(\"Underweight\")\n",
    "    elif BMI >= 18.5 and BMI <= 24.9:\n",
    "        print(\"Healthy weight\")\n",
    "    elif BMI > 24.9:\n",
    "        print(\"Overweight\")\n",
    "        \n",
    "calculate_BMI(70, 1.5)"
   ]
  },
  {
   "cell_type": "code",
   "execution_count": null,
   "metadata": {
    "collapsed": true,
    "jupyter": {
     "outputs_hidden": true
    }
   },
   "outputs": [],
   "source": []
  },
  {
   "cell_type": "markdown",
   "metadata": {},
   "source": [
    "<a id=\"scope\"></a>\n",
    "#### 7.2 Variable scope"
   ]
  },
  {
   "cell_type": "markdown",
   "metadata": {},
   "source": [
    "You can think of the code inside a function as self-contained. This means that a variable with the same name inside a function is actually a different variable to one with the same name outside of a function. This is best illustrated with an example."
   ]
  },
  {
   "cell_type": "code",
   "execution_count": 37,
   "metadata": {},
   "outputs": [
    {
     "name": "stdout",
     "output_type": "stream",
     "text": [
      "x inside function = 7\n",
      "x outside function = 10\n"
     ]
    }
   ],
   "source": [
    "x = 10\n",
    "\n",
    "def my_function():\n",
    "    x = 7    \n",
    "    print(\"x inside function =\", x)\n",
    "    \n",
    "my_function()\n",
    "print(\"x outside function =\", x)"
   ]
  },
  {
   "cell_type": "markdown",
   "metadata": {},
   "source": [
    "Here we have 2 variables both called <code>x</code>. The version of x outside of the function contains the value 10, whereas the one inside the function contains the value 7. These are 2 separate variables both with the same name. This is termed the <code>scope</code> of the variable. We can see when we print the values that we get 2 different results (10 and 7). One way to increase the scope of a variable is to give it <code>global</code> scope by making it what is referred to as a <code>global variable</code> by using the <code>global</code> keyword."
   ]
  },
  {
   "cell_type": "code",
   "execution_count": 38,
   "metadata": {},
   "outputs": [
    {
     "name": "stdout",
     "output_type": "stream",
     "text": [
      "x = 15\n"
     ]
    }
   ],
   "source": [
    "x = 10\n",
    "\n",
    "def my_function():\n",
    "    global x \n",
    "    x = x + 5\n",
    "    print(\"x =\", x)\n",
    "    \n",
    "my_function()"
   ]
  },
  {
   "cell_type": "markdown",
   "metadata": {},
   "source": [
    "Here we can use the <code>global</code> keyword to tell Python that the <code>x</code> in the function is actually the same <code>x</code> as the one outside of the function. Now when we add 5 to the value of <code>x</code> (which is 10) we get 15."
   ]
  },
  {
   "cell_type": "markdown",
   "metadata": {
    "solution2": "hidden",
    "solution2_first": true
   },
   "source": [
    "<div class=\"alert alert-block alert-info\">\n",
    "<b>Task 4:</b>\n",
    "<br> \n",
    "1. Try removing the <code>global</code> keyword from the code above and passing <code>x</code> into the function as a parameter.<br />\n",
    "2. Print the value of <code>x</code> inside the function and after calling the function.<br />\n",
    "3. What do you expect the value of <code>x</code> to be in both cases?\n",
    "</div>"
   ]
  },
  {
   "cell_type": "code",
   "execution_count": 39,
   "metadata": {
    "solution2": "hidden"
   },
   "outputs": [
    {
     "name": "stdout",
     "output_type": "stream",
     "text": [
      "x in function = 15\n",
      "x = 10\n"
     ]
    }
   ],
   "source": [
    "x = 10\n",
    "\n",
    "def my_function(x):\n",
    "    x = x + 5\n",
    "    print(\"x in function =\", x)\n",
    "    \n",
    "my_function(x)\n",
    "print(\"x =\", x)"
   ]
  },
  {
   "cell_type": "code",
   "execution_count": null,
   "metadata": {
    "collapsed": true,
    "jupyter": {
     "outputs_hidden": true
    }
   },
   "outputs": [],
   "source": []
  },
  {
   "cell_type": "markdown",
   "metadata": {},
   "source": [
    "<div class=\"alert alert-success\">\n",
    "<b>Note:</b> Global variables are useful when you want to share a value with many functions and want to avoid passing it in and out of multiple functions. It is good practice however to use the smallest number of global variables needed as there is a risk they could be altered in unexpected ways if they are being used in multiple places. \n",
    "</div>"
   ]
  },
  {
   "cell_type": "markdown",
   "metadata": {},
   "source": [
    "<a id=\"anon\"></a>\n",
    "#### 7.3 Anonymous functions"
   ]
  },
  {
   "cell_type": "markdown",
   "metadata": {},
   "source": [
    "Sometimes you need to write a quick disposable one time function to carry out some task and don't want to declare a complete function. Python achieves this with what are known as <code>lambda</code> functions. Consider writing a function to return the sum of two numbers. We might write a function that looks something like this:"
   ]
  },
  {
   "cell_type": "code",
   "execution_count": 40,
   "metadata": {
    "collapsed": true,
    "jupyter": {
     "outputs_hidden": true
    }
   },
   "outputs": [],
   "source": [
    "def add_numbers(n1, n2):\n",
    "    return n1 + n2"
   ]
  },
  {
   "cell_type": "code",
   "execution_count": 41,
   "metadata": {},
   "outputs": [
    {
     "name": "stdout",
     "output_type": "stream",
     "text": [
      "Result = 7\n"
     ]
    }
   ],
   "source": [
    "print(\"Result =\", add_numbers(2, 5))"
   ]
  },
  {
   "cell_type": "markdown",
   "metadata": {},
   "source": [
    "We can achieve the same with a throw away lambda function, which is useful if we just want to use a function once."
   ]
  },
  {
   "cell_type": "code",
   "execution_count": 42,
   "metadata": {},
   "outputs": [
    {
     "name": "stdout",
     "output_type": "stream",
     "text": [
      "Result = 10\n"
     ]
    }
   ],
   "source": [
    "add_nums = lambda n1, n2: n1 + n2\n",
    "print(\"Result =\", add_nums(8, 2))"
   ]
  },
  {
   "cell_type": "markdown",
   "metadata": {},
   "source": [
    "This can be made even more efficient using a single of line of code:"
   ]
  },
  {
   "cell_type": "code",
   "execution_count": 44,
   "metadata": {},
   "outputs": [
    {
     "name": "stdout",
     "output_type": "stream",
     "text": [
      "Result = 5\n"
     ]
    }
   ],
   "source": [
    "print(\"Result =\", (lambda n1, n2: n1 + n2)(3, 2))"
   ]
  },
  {
   "cell_type": "markdown",
   "metadata": {},
   "source": [
    "<a id=\"recursion\"></a>\n",
    "#### 7.4 Recursion"
   ]
  },
  {
   "cell_type": "markdown",
   "metadata": {},
   "source": [
    "Another concept relating to functions is that of <code>recursion</code>. We have seen how we can use <code>iteration</code> in the form of loops to repeat actions. We can also have nested loops and this nesting can be very deep. There is however a limit to this. To overcome this we can use recursion to get a function to call itself over and over. Certain problems lend themselves to recursion and it is a technique often used in algorithm design."
   ]
  },
  {
   "cell_type": "markdown",
   "metadata": {},
   "source": [
    "Let's look at a classic problem that can be solved with recursion. The <code>tower of Hanoi</code>. This is mathematical  puzzle  where you have 3 pegs and have to move disks from one peg to another one at time such that no larger disk can be on-top of a smaller disk. The task is to do this in the minimum amount of moves possible. The animation below shows this in action."
   ]
  },
  {
   "cell_type": "markdown",
   "metadata": {},
   "source": [
    "<img src=\"./intro_images/tower.gif\" alt=\"tower of Hanoi image\" width=\"500\" />"
   ]
  },
  {
   "cell_type": "markdown",
   "metadata": {},
   "source": [
    "<div class=accessibility>\n",
    "<b>Accessibility:</b> The illustration above shows the Hanoi tower game animation.\n",
    "</div>"
   ]
  },
  {
   "cell_type": "markdown",
   "metadata": {},
   "source": [
    "So if we write a function that calls itself and pass in the number of disks (4) we can see how many moves it takes (15). You can count the moves in the animation to check."
   ]
  },
  {
   "cell_type": "code",
   "execution_count": 8,
   "metadata": {},
   "outputs": [],
   "source": [
    "def hanoi(n):\n",
    "    if n == 1:\n",
    "        return 1\n",
    "    return (2 * hanoi(n - 1) + 1)"
   ]
  },
  {
   "cell_type": "code",
   "execution_count": 9,
   "metadata": {},
   "outputs": [
    {
     "name": "stdout",
     "output_type": "stream",
     "text": [
      "Number of moves for 4 disks = 15\n"
     ]
    }
   ],
   "source": [
    "print(\"Number of moves for 4 disks =\", hanoi(4))"
   ]
  },
  {
   "cell_type": "markdown",
   "metadata": {},
   "source": [
    "For 4 disks it is actually doing this:<br />\n",
    "$ = 2 \\times hanoi(3) + 1 $ <br />\n",
    "$ = 2 \\times (2 \\times hanoi(2) + 1) + 1 $ <br />\n",
    "$ = 2 \\times (2 \\times (2 \\times hanoi(1) + 1) + 1) + 1 $ <br />\n",
    "$ = 2 \\times (2 \\times (2 \\times 1 + 1) + 1) + 1 $ <br />\n",
    "$ = 2 \\times (2 \\times (3) + 1) + 1 $ <br />\n",
    "$ = 2 \\times (7) + 1 $ <br />\n",
    "$ = 15 $"
   ]
  },
  {
   "cell_type": "markdown",
   "metadata": {},
   "source": [
    "The <code>Fibonacci</code> sequence is a number sequence (featured in The Davinci code book and film) where the next number in the sequence is found by summing the previous 2 numbers in the sequence. It looks like this:<br />\n",
    "$$0, 1, 1, 2, 3, 5, 8, 13, 21, 34, ... $$\n",
    "So $(0 + 1 = 1)$ and $(1 + 1 = 2)$ and $(1 + 2 = 3)$ and so on."
   ]
  },
  {
   "cell_type": "markdown",
   "metadata": {
    "solution2": "hidden",
    "solution2_first": true
   },
   "source": [
    "<div class=\"alert alert-block alert-info\">\n",
    "<b>Task 5:</b>\n",
    "<br> \n",
    "Given the information above about the Fibonacci sequence: <br />\n",
    "Write a function using <code>recursion</code> to return a value of the sequence provided as input to the function.<br />\n",
    "    <strong>Hint:</strong> You will need to use a loop when calling the function to print the results and pass the loop counter into the function i.e.<br>\n",
    "<code>n = 6\n",
    "for i in range(n):\n",
    "    print(fib_sequence(i), \" \", end=\"\")\n",
    "</code>\n",
    "</div>"
   ]
  },
  {
   "cell_type": "code",
   "execution_count": 10,
   "metadata": {
    "solution2": "hidden"
   },
   "outputs": [
    {
     "name": "stdout",
     "output_type": "stream",
     "text": [
      "0  1  1  2  3  5  8  13  21  34  "
     ]
    }
   ],
   "source": [
    "def fib_sequence(n):\n",
    "    if n <= 1:\n",
    "        return n\n",
    "    else:\n",
    "        return fib_sequence(n-1) + fib_sequence(n-2)\n",
    "\n",
    "n = 10\n",
    "for i in range(n):\n",
    "    print(fib_sequence(i), \" \", end=\"\")"
   ]
  },
  {
   "cell_type": "code",
   "execution_count": null,
   "metadata": {
    "collapsed": true,
    "jupyter": {
     "outputs_hidden": true
    }
   },
   "outputs": [],
   "source": []
  },
  {
   "cell_type": "markdown",
   "metadata": {},
   "source": [
    "<div class=\"alert alert-success\">\n",
    "<b>Note:</b> you may wonder why Recursion should be used instead of nested loops, especially as you can nest many levels of loops (in the hundreds). Apart from many algorithms making use of recursion, compilers also make use of this to process nested code efficiently. In computer science theory there is also whats known as an <code>Ackermann function</code>. This is a function that grows very large very quickly and becomes difficult to compute without recursive methods.\n",
    "</div>"
   ]
  },
  {
   "cell_type": "markdown",
   "metadata": {},
   "source": [
    "<a id=\"decs\"></a>\n",
    "#### 7.5 Decorators"
   ]
  },
  {
   "cell_type": "markdown",
   "metadata": {},
   "source": [
    "The concept of <code>meta-programming</code> can be used to prevent the need to repeat code that may be mostly similar but slightly different. This includes concepts such as meta-classes, and class and function decorators. We will look at an example of using function decorators. You can think of this like applying a wrapper to a function."
   ]
  },
  {
   "cell_type": "markdown",
   "metadata": {},
   "source": [
    "Here we create a decorator called <code>add_text_header</code> that wraps an inner function (called <code>wrapped_func</code>) that takes a single argument (<code>st</code>). The function adds 40 forward slash characters above and below the function passed in thus extending it's functionality. "
   ]
  },
  {
   "cell_type": "code",
   "execution_count": 1,
   "metadata": {},
   "outputs": [],
   "source": [
    "def add_text_header(func):\n",
    "    def wrapped_func(st):\n",
    "        print(\"/\" * 40)\n",
    "        print(\"// \", end=\"\")\n",
    "        func(st)\n",
    "        print(\"/\" * 40)\n",
    "    \n",
    "    return wrapped_func"
   ]
  },
  {
   "cell_type": "markdown",
   "metadata": {},
   "source": [
    "We can now use the decorator by using the at symbol <code>@</code> as a prefix to the decorator name followed by a function. For example a function to output a name that is passed into the function. "
   ]
  },
  {
   "cell_type": "code",
   "execution_count": 2,
   "metadata": {},
   "outputs": [],
   "source": [
    "@add_text_header\n",
    "def print_name(name_str):\n",
    "    print(name_str)"
   ]
  },
  {
   "cell_type": "markdown",
   "metadata": {},
   "source": [
    "If we run the function passing in a string we can see the output below."
   ]
  },
  {
   "cell_type": "code",
   "execution_count": 3,
   "metadata": {},
   "outputs": [
    {
     "name": "stdout",
     "output_type": "stream",
     "text": [
      "////////////////////////////////////////\n",
      "// Paul Taylor\n",
      "////////////////////////////////////////\n"
     ]
    }
   ],
   "source": [
    "print_name(\"Paul Taylor\")"
   ]
  },
  {
   "cell_type": "markdown",
   "metadata": {},
   "source": [
    "We can re-purpose this functionality with other functions. For example we could write a function to output members of a team with a preceding message:"
   ]
  },
  {
   "cell_type": "code",
   "execution_count": 4,
   "metadata": {},
   "outputs": [],
   "source": [
    "@add_text_header\n",
    "def output_team_names(team):\n",
    "    print(\"The main team members include:\")\n",
    "    for member in team:\n",
    "        print(member)"
   ]
  },
  {
   "cell_type": "code",
   "execution_count": 5,
   "metadata": {},
   "outputs": [
    {
     "name": "stdout",
     "output_type": "stream",
     "text": [
      "////////////////////////////////////////\n",
      "// The main team members include:\n",
      "Paul\n",
      "Dave\n",
      "Hattim\n",
      "Jane\n",
      "////////////////////////////////////////\n"
     ]
    }
   ],
   "source": [
    "output_team_names(['Paul', 'Dave', 'Hattim', 'Jane'])"
   ]
  },
  {
   "cell_type": "markdown",
   "metadata": {},
   "source": [
    "Some common uses are to add logging functionality to functions or timing to code among others."
   ]
  },
  {
   "cell_type": "markdown",
   "metadata": {},
   "source": [
    "<a id=\"annotations\"></a>\n",
    "#### 7.6 Annotations"
   ]
  },
  {
   "cell_type": "markdown",
   "metadata": {},
   "source": [
    "Functions can also be annotated in Python version 3 onwards. This is not enforced but does allow you to specify things such as the expected data type for a given function. For example we could specify that the following function returns an integer. We do this using the <code>-&gt;</code> symbol followed by the annotation. For example:"
   ]
  },
  {
   "cell_type": "code",
   "execution_count": 6,
   "metadata": {},
   "outputs": [],
   "source": [
    "def add_nums(num1, num2) -> int:\n",
    "    return int(num1 + num2)"
   ]
  },
  {
   "cell_type": "markdown",
   "metadata": {},
   "source": [
    "We can also add annotations to function parameters in the same way:"
   ]
  },
  {
   "cell_type": "code",
   "execution_count": 7,
   "metadata": {},
   "outputs": [],
   "source": [
    "def add_nums(num1: float, num2: float) -> int:\n",
    "    return int(num1 + num2)"
   ]
  },
  {
   "cell_type": "markdown",
   "metadata": {},
   "source": [
    "Here we specified the input parameters should be floats and the function returns an integer value. Again this is not enforced but it does help people using the function know what the expected input and output should be. It's worth noting that in future versions of Python these annotations may be enforced. "
   ]
  },
  {
   "cell_type": "markdown",
   "metadata": {},
   "source": [
    "These don't just have to be data types, you can specify other annotations. For example we can create a function to convert degrees fahrenheit to degrees celsius specifying that the input should be fahrenheit and the output celsius:"
   ]
  },
  {
   "cell_type": "code",
   "execution_count": 8,
   "metadata": {},
   "outputs": [],
   "source": [
    "def calc_temp(f: 'fahrenheit') -> 'celsius':\n",
    "    return (f - 32) * 5/9"
   ]
  },
  {
   "cell_type": "code",
   "execution_count": 9,
   "metadata": {},
   "outputs": [
    {
     "name": "stdout",
     "output_type": "stream",
     "text": [
      "7.222222222222222\n"
     ]
    }
   ],
   "source": [
    "print(calc_temp(45))"
   ]
  },
  {
   "cell_type": "markdown",
   "metadata": {},
   "source": [
    "Finally, this is sometimes used to suggest what the input should look like - i.e. to give an example of the sort of input required or output generated."
   ]
  },
  {
   "cell_type": "code",
   "execution_count": 10,
   "metadata": {},
   "outputs": [],
   "source": [
    "def enter_date(dt: 'dd/mm/yyyy'):\n",
    "    print(\"Date entered:\", dt)"
   ]
  },
  {
   "cell_type": "markdown",
   "metadata": {},
   "source": [
    "In the next notebook we will explore how we can handle errors in Python and test our code using <code>unit tests</code>. Testing helps us to ensure our code works as expected and is reliable."
   ]
  },
  {
   "cell_type": "markdown",
   "metadata": {},
   "source": [
    "### Notebook details\n",
    "<br>\n",
    "<i>Notebook created by <strong>Dr. Alan Davies</strong>.\n",
    "<br>\n",
    "&copy; Alan Davies 2021"
   ]
  },
  {
   "cell_type": "markdown",
   "metadata": {},
   "source": [
    "## Notes:"
   ]
  },
  {
   "cell_type": "code",
   "execution_count": null,
   "metadata": {},
   "outputs": [],
   "source": []
  },
  {
   "cell_type": "code",
   "execution_count": null,
   "metadata": {},
   "outputs": [],
   "source": []
  },
  {
   "cell_type": "code",
   "execution_count": null,
   "metadata": {},
   "outputs": [],
   "source": []
  },
  {
   "cell_type": "code",
   "execution_count": null,
   "metadata": {},
   "outputs": [],
   "source": []
  },
  {
   "cell_type": "code",
   "execution_count": 1,
   "metadata": {},
   "outputs": [
    {
     "data": {
      "text/html": [
       "<style>\n",
       "div.accessibility {    \n",
       "    background-color: #DDC4DE;\n",
       "    border-color: #8D398F;\n",
       "    border-left: 5px solid #8D398F;\n",
       "    padding: 0.5em;\n",
       "}\n",
       "</style>"
      ],
      "text/plain": [
       "<IPython.core.display.HTML object>"
      ]
     },
     "execution_count": 1,
     "metadata": {},
     "output_type": "execute_result"
    }
   ],
   "source": [
    "# This cell maintains the accessibility of the notebook content.\n",
    "from IPython.core.display import HTML\n",
    "def css_styling():\n",
    "    styles = open(\"./styles/custom.css\", \"r\").read()\n",
    "    return HTML(styles)\n",
    "css_styling()"
   ]
  },
  {
   "cell_type": "code",
   "execution_count": null,
   "metadata": {},
   "outputs": [],
   "source": []
  }
 ],
 "metadata": {
  "hide_input": false,
  "kernelspec": {
   "display_name": "Python 3 (ipykernel)",
   "language": "python",
   "name": "python3"
  },
  "language_info": {
   "codemirror_mode": {
    "name": "ipython",
    "version": 3
   },
   "file_extension": ".py",
   "mimetype": "text/x-python",
   "name": "python",
   "nbconvert_exporter": "python",
   "pygments_lexer": "ipython3",
   "version": "3.9.12"
  }
 },
 "nbformat": 4,
 "nbformat_minor": 4
}
