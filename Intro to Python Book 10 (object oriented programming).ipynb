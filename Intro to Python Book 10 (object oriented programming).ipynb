{
 "cells": [
  {
   "cell_type": "markdown",
   "metadata": {},
   "source": [
    "<img src=\"./intro_images/MIE.PNG\" alt=\"notebook banner image\" width=\"100%\" align=\"left\" />"
   ]
  },
  {
   "cell_type": "markdown",
   "metadata": {},
   "source": [
    "<table style=\"float:right;\">\n",
    "    <tr>\n",
    "        <td>                      \n",
    "            <div style=\"text-align: right\"><a href=\"https://alandavies.netlify.com\" target=\"_blank\">Dr Alan Davies</a></div>\n",
    "            <div style=\"text-align: right\">Senior Lecturer Health Data Science</div>\n",
    "            <div style=\"text-align: right\">University of Manchester</div>\n",
    "         </td>\n",
    "         <td>\n",
    "             <img src=\"./intro_images/alan.PNG\" alt=\"Alan Davies's photo\" width=\"30%\" />\n",
    "         </td>\n",
    "     </tr>\n",
    "</table>"
   ]
  },
  {
   "cell_type": "markdown",
   "metadata": {},
   "source": [
    "# 10.0 Object oriented programming\n",
    "****"
   ]
  },
  {
   "cell_type": "markdown",
   "metadata": {},
   "source": [
    "#### About this Notebook\n",
    "This notebook introduces the Object Oriented Programming (OOP) paradigm in Python. This allows us to encapsulate variables, functions and other data structures in a single overarching reusable data structure that can model real world objects."
   ]
  },
  {
   "cell_type": "markdown",
   "metadata": {},
   "source": [
    "<div class=\"alert alert-block alert-warning\"><b>Learning Objectives:</b> \n",
    "<br/> At the end of this notebook you will be able to:\n",
    "    \n",
    "- Investigate key features of OOP represented in Python\n",
    "\n",
    "- Practice creating classes and objects using Python \n",
    "\n",
    "</div> "
   ]
  },
  {
   "cell_type": "markdown",
   "metadata": {},
   "source": [
    "Python also supports the <code>Object Orientated Programming</code> (OOP) paradigm (as well as imperative, functional, procedural). This is essentially a way of storing multiple functions and variables that are in some way semantically related together in an overarching data structure. "
   ]
  },
  {
   "cell_type": "markdown",
   "metadata": {},
   "source": [
    "Consider building a system that could model health interactions. We could create <code>objects</code> to represent the key elements of this system such as doctors, nurses and patients. To do this we can design a <code>class</code> for each of these that <code>encapsulates</code> various functions (called <code>methods</code>) and variables (<code>attributes</code>). Let's start by building a basic class for a doctor."
   ]
  },
  {
   "cell_type": "code",
   "execution_count": 1,
   "metadata": {
    "tags": []
   },
   "outputs": [],
   "source": [
    "class Doctor:\n",
    "    def __init__(self, name, role):\n",
    "        self.name = name\n",
    "        self.role = role"
   ]
  },
  {
   "cell_type": "markdown",
   "metadata": {},
   "source": [
    "So here is a basic class containing one method called <code>&#95;&#95;init&#95;&#95;()</code> (double underscores (dunders), the word init and 2 more double underscores) that takes some parameters for the type of doctor and their name and stores these in variables inside the class. A class is like a blueprint where an object is like a specific instance. This would be like having class <code>phone</code> and then an instance of this called <code>iPhone</code> or a class called <code>car</code> with an instance called <code>Mini</code>. "
   ]
  },
  {
   "cell_type": "markdown",
   "metadata": {},
   "source": [
    "<div class=\"alert alert-success\">\n",
    "<b>Note:</b> Class names tend to start with capital letters to distinguish them from other variables and functions. \n",
    "</div>"
   ]
  },
  {
   "cell_type": "markdown",
   "metadata": {},
   "source": [
    "The <code>&#95;&#95;init&#95;&#95;()</code> function is what is known as the class <code>constructor</code>. You can think of this as a default initialisation function that gets run when you create an instance of the object. The constructor doesn't have to have any values other than the <code>self</code> keyword. In the other methods the <code>self</code> keyword is used to tell Python that we are referring to the variable in the instance of the object (it's own copy of the variable).  "
   ]
  },
  {
   "cell_type": "markdown",
   "metadata": {},
   "source": [
    "Here we can create 2 instances of the <code>Doctor</code> class and customise their parameters. "
   ]
  },
  {
   "cell_type": "code",
   "execution_count": 24,
   "metadata": {
    "tags": []
   },
   "outputs": [],
   "source": [
    "my_doctor = Doctor(\"Sandra Clark\", \"Cardiac consultant\")"
   ]
  },
  {
   "cell_type": "code",
   "execution_count": 25,
   "metadata": {
    "tags": []
   },
   "outputs": [],
   "source": [
    "another_doctor = Doctor(\"Mike Smith\", \"Respiratory F1\")"
   ]
  },
  {
   "cell_type": "markdown",
   "metadata": {},
   "source": [
    "Here we have made 2 instances of our doctor class (like 2 copies that we can then customize). Another way to think about classes and instances is that the class is like the blueprint you give to a machine in the factory to manufacture some item. It specifies the item. When the machine starts to produce items (instances) the items can then be customized. Imagine a machine that makes a certain type of car. Once manufactured, each car can be customized. Maybe you spray them a different colour for example. \n",
    "<br /><br />\n",
    "Lets add some methods to the class:"
   ]
  },
  {
   "cell_type": "code",
   "execution_count": 6,
   "metadata": {
    "tags": []
   },
   "outputs": [],
   "source": [
    "class Doctor:\n",
    "    def __init__(self, name, role):\n",
    "        self.name = name\n",
    "        self.role = role\n",
    "        self.patients_processed = 0\n",
    "        \n",
    "    def admit_patient(self, patient):\n",
    "        print(self.name, \"will admit patient\", patient)\n",
    "        self.process_patient()\n",
    "    \n",
    "    def diagnose_patient(self, patient):\n",
    "        print(self.name, \"will diagnose patient\", patient)\n",
    "        self.process_patient()\n",
    "    \n",
    "    def discharge_patient(self, patient):\n",
    "        print(self.name, \"will discharge patient\", patient)\n",
    "        self.process_patient()\n",
    "        \n",
    "    def process_patient(self):\n",
    "        self.patients_processed += 1\n",
    "        \n",
    "    def number_of_times_patients_processed(self):\n",
    "        return self.patients_processed"
   ]
  },
  {
   "cell_type": "code",
   "execution_count": 7,
   "metadata": {},
   "outputs": [
    {
     "name": "stdout",
     "output_type": "stream",
     "text": [
      "Sandra Clark will admit patient Alan\n",
      "Sandra Clark will diagnose patient Alan\n",
      "Sandra Clark will discharge patient Alan\n",
      "Mike Smith will admit patient Jane\n",
      "Mike Smith will discharge patient Jane\n",
      "Sandra processed patients 3 times\n",
      "Mike processed patients 2 times\n"
     ]
    }
   ],
   "source": [
    "patient_1 = \"Alan\"\n",
    "patient_2 = \"Jane\"\n",
    "\n",
    "sandra = Doctor(\"Sandra Clark\", \"Cardiac consultant\")\n",
    "mike = Doctor(\"Mike Smith\", \"Respiratory F1\")\n",
    "\n",
    "sandra.admit_patient(patient_1)\n",
    "sandra.diagnose_patient(patient_1)\n",
    "sandra.discharge_patient(patient_1)\n",
    "\n",
    "mike.admit_patient(patient_2)\n",
    "mike.discharge_patient(patient_2)\n",
    "\n",
    "print(\"Sandra processed patients\", sandra.number_of_times_patients_processed(), \"times\")\n",
    "print(\"Mike processed patients\", mike.number_of_times_patients_processed(), \"times\")"
   ]
  },
  {
   "cell_type": "markdown",
   "metadata": {},
   "source": [
    "To access methods in the class we type the object instance name (i.e. <code>sandra</code>) followed by a dot (period) <code>.</code> and then the method we want to call i.e. <code>admit_patient()</code>. We also have to use the <code>self</code> keyword before variables and functions contained within a class to tell Python that they belong to this particular instance of the class."
   ]
  },
  {
   "cell_type": "markdown",
   "metadata": {
    "solution2": "hidden",
    "solution2_first": true
   },
   "source": [
    "<div class=\"alert alert-block alert-info\">\n",
    "<b>Task 1:</b>\n",
    "<br> \n",
    "1. Write a method in the class called <code>current_role</code> that outputs the doctors role.<br />\n",
    "2. Create a new doctor instance called <code>mary</code> and call the new method.<br />\n",
    "3. Make Mary a <code>nephrologist</code> (kidney doctor)\n",
    "</div>"
   ]
  },
  {
   "cell_type": "code",
   "execution_count": 2,
   "metadata": {
    "solution2": "hidden"
   },
   "outputs": [],
   "source": [
    "class Doctor:\n",
    "    def __init__(self, name, role):\n",
    "        self.name = name\n",
    "        self.role = role\n",
    "        self.patients_processed = 0\n",
    "        \n",
    "    def admit_patient(self, patient):\n",
    "        print(self.name, \"will admit patient\", patient)\n",
    "        self.process_patient()\n",
    "    \n",
    "    def diagnose_patient(self, patient):\n",
    "        print(self.name, \"will diagnose patient\", patient)\n",
    "        self.process_patient()\n",
    "    \n",
    "    def discharge_patient(self, patient):\n",
    "        print(self.name, \"will discharge patient\", patient)\n",
    "        self.process_patient()\n",
    "        \n",
    "    def process_patient(self):\n",
    "        self.patients_processed += 1\n",
    "        \n",
    "    def number_of_times_patients_processed(self):\n",
    "        return self.patients_processed\n",
    "    \n",
    "    def current_role(self):\n",
    "        print(\"My role is:\", self.role)"
   ]
  },
  {
   "cell_type": "code",
   "execution_count": 3,
   "metadata": {
    "solution2": "hidden"
   },
   "outputs": [
    {
     "name": "stdout",
     "output_type": "stream",
     "text": [
      "My role is: Nephrologist\n"
     ]
    }
   ],
   "source": [
    "mary = Doctor(\"Mary\", \"Nephrologist\")\n",
    "mary.current_role()"
   ]
  },
  {
   "cell_type": "code",
   "execution_count": null,
   "metadata": {
    "collapsed": true,
    "jupyter": {
     "outputs_hidden": true
    }
   },
   "outputs": [],
   "source": []
  },
  {
   "cell_type": "code",
   "execution_count": null,
   "metadata": {
    "collapsed": true,
    "jupyter": {
     "outputs_hidden": true
    }
   },
   "outputs": [],
   "source": []
  },
  {
   "cell_type": "markdown",
   "metadata": {},
   "source": [
    "Another way we can represent classes and design them/show interactions between them is by making a class diagram:"
   ]
  },
  {
   "cell_type": "markdown",
   "metadata": {},
   "source": [
    "<img src=\"./intro_images/doctor.PNG\" width=\"500\" />"
   ]
  },
  {
   "cell_type": "markdown",
   "metadata": {},
   "source": [
    "<div class=accessibility>\n",
    "<b>Accessibility:</b> The Doctor class diagram contains three attributes and six properties. The attributes are: name (String variable), role (String variable) and patient processes (Integer variable). The properties are constructor that calls name and role, admit patient, diagnose patient, discharge patient, process patient and number of times patient processed. \n",
    "</div>"
   ]
  },
  {
   "cell_type": "markdown",
   "metadata": {},
   "source": [
    "The diagram shows the class name at the top followed by the attributes (variables) and what data type they represent. The next section shows the class methods and their inputs."
   ]
  },
  {
   "cell_type": "markdown",
   "metadata": {},
   "source": [
    "<img src=\"./intro_images/class.PNG\" width=\"600\" />"
   ]
  },
  {
   "cell_type": "markdown",
   "metadata": {},
   "source": [
    "<i><strong>Davies and Mueller (2020)</strong> diagram showing several classes interacting</i>"
   ]
  },
  {
   "cell_type": "markdown",
   "metadata": {},
   "source": [
    "<div class=accessibility>\n",
    "<b>Accessibility:</b> The class digram has four classes. They are User, Patient, Carer and Symptom logger. User class is the parent class and its child classes are Patient and Carer. Each User has many Symptom loggers. \n",
    "</div>"
   ]
  },
  {
   "cell_type": "markdown",
   "metadata": {},
   "source": [
    "Class diagrams can be used to show relationships between multiple classes in a system such as a symptom checker app as depicted in the diagram above. This can also show details of cardinality (e.g. 1 user can have multiple symptom logs) and inheritence (e.g. a patient and carer subclass of user) as well as other associtations. You can find out more about how to draw class diagrams <a href=\"https://www.lucidchart.com/pages/uml-class-diagram/#section_2\" target=\"_blank\">here</a>."
   ]
  },
  {
   "cell_type": "markdown",
   "metadata": {},
   "source": [
    "So far we have been representing our patients as simple strings. Let's make a patient class so that it can interact with our doctor class. We can give the patients a name, age, hospital number, presenting problem, diagnosis and past medical history. "
   ]
  },
  {
   "cell_type": "code",
   "execution_count": 10,
   "metadata": {
    "tags": []
   },
   "outputs": [],
   "source": [
    "class Patient:\n",
    "    def __init__(self, name, hospital_number, presenting_complaint):\n",
    "        self.name = name\n",
    "        self.hospital_number = hospital_number\n",
    "        self.presenting_complaint = presenting_complaint\n",
    "        self.PMH = []\n",
    "        self.diagnosis = None\n",
    "        \n",
    "    def add_medical_history(self, medical_history_item):\n",
    "        self.PMH.append(medical_history_item)\n",
    "        \n",
    "    def get_medical_history(self):\n",
    "        return self.PMH\n",
    "    \n",
    "    def show_diagnosis(self):\n",
    "        return self.diagnosis\n",
    "    \n",
    "    def update_diagnosis(self, diagnosis):\n",
    "        self.diagnosis = diagnosis\n",
    "        \n",
    "    def whats_wrong(self):\n",
    "        return self.presenting_complaint"
   ]
  },
  {
   "cell_type": "markdown",
   "metadata": {},
   "source": [
    "Now let's make some patients and give them some past and current medical problems."
   ]
  },
  {
   "cell_type": "code",
   "execution_count": 11,
   "metadata": {
    "tags": []
   },
   "outputs": [],
   "source": [
    "john = Patient(\"John Miles\", 123456, \"Abdominal pain\")\n",
    "john.add_medical_history(\"Gout\")\n",
    "john.add_medical_history(\"IHD\")\n",
    "john.add_medical_history(\"MS\")\n",
    "\n",
    "jane = Patient(\"Jane Smith\", 344532, \"Chest pain\")\n",
    "jane.add_medical_history(\"Hypertension\")\n",
    "jane.add_medical_history(\"Type II diabetes\")"
   ]
  },
  {
   "cell_type": "code",
   "execution_count": 12,
   "metadata": {},
   "outputs": [
    {
     "name": "stdout",
     "output_type": "stream",
     "text": [
      "['Gout', 'IHD', 'MS']\n",
      "['Hypertension', 'Type II diabetes']\n"
     ]
    }
   ],
   "source": [
    "print(john.get_medical_history())\n",
    "print(jane.get_medical_history())"
   ]
  },
  {
   "cell_type": "markdown",
   "metadata": {},
   "source": [
    "Now let's update our doctor class to work better with our patient class."
   ]
  },
  {
   "cell_type": "code",
   "execution_count": 13,
   "metadata": {
    "tags": []
   },
   "outputs": [],
   "source": [
    "class Doctor:\n",
    "    def __init__(self, name, role):\n",
    "        self.name = name\n",
    "        self.role = role\n",
    "        self.patients_processed = 0\n",
    "        \n",
    "    def admit_patient(self, patient):\n",
    "        print(self.name, \"will admit patient\", patient)\n",
    "        self.process_patient()\n",
    "    \n",
    "    def diagnose_patient(self, patient, presenting_complaint):\n",
    "        diagnosis = \"\"\n",
    "        print(self.name, \"will diagnose patient\", patient)\n",
    "        self.process_patient()\n",
    "        if presenting_complaint == \"Abdominal pain\":\n",
    "            diagnosis = \"Gall stones\"\n",
    "        elif presenting_complaint == \"Chest pain\":\n",
    "            diagnosis = \"Myocardial infarction (heart attack)\"\n",
    "        else:\n",
    "            diagnosis = \"Unknown - need to run more tests\"\n",
    "        \n",
    "        return diagnosis\n",
    "         \n",
    "    def process_patient(self):\n",
    "        self.patients_processed += 1\n",
    "        \n",
    "    def number_of_times_patients_processed(self):\n",
    "        return self.patients_processed"
   ]
  },
  {
   "cell_type": "markdown",
   "metadata": {
    "solution2": "hidden",
    "solution2_first": true
   },
   "source": [
    "<div class=\"alert alert-block alert-info\">\n",
    "<b>Task 2:</b>\n",
    "<br> \n",
    "1. Write a method in the class called <code>discharge_patient</code> that takes <code>patient</code> as a parameter<br />\n",
    "2. Print the doctors name and state they will discharge the patient.<br />\n",
    "3. Call the <code>process_patient()</code> function\n",
    "</div>"
   ]
  },
  {
   "cell_type": "code",
   "execution_count": 14,
   "metadata": {
    "solution2": "hidden",
    "tags": []
   },
   "outputs": [],
   "source": [
    "class Doctor:\n",
    "    def __init__(self, name, role):\n",
    "        self.name = name\n",
    "        self.role = role\n",
    "        self.patients_processed = 0\n",
    "        \n",
    "    def admit_patient(self, patient):\n",
    "        print(self.name, \"will admit patient\", patient)\n",
    "        self.process_patient()\n",
    "    \n",
    "    def diagnose_patient(self, patient, presenting_complaint):\n",
    "        diagnosis = \"\"\n",
    "        print(self.name, \"will diagnose patient\", patient)\n",
    "        self.process_patient()\n",
    "        if presenting_complaint == \"Abdominal pain\":\n",
    "            diagnosis = \"Gall stones\"\n",
    "        elif presenting_complaint == \"Chest pain\":\n",
    "            diagnosis = \"Myocardial infarction (heart attack)\"\n",
    "        else:\n",
    "            diagnosis = \"Unknown - need to run more tests\"\n",
    "        \n",
    "        return diagnosis\n",
    "    \n",
    "    def discharge_patient(self, patient):\n",
    "        print(self.name, \"will discharge patient\", patient)\n",
    "        self.process_patient()\n",
    "        \n",
    "    def process_patient(self):\n",
    "        self.patients_processed += 1\n",
    "        \n",
    "    def number_of_times_patients_processed(self):\n",
    "        return self.patients_processed"
   ]
  },
  {
   "cell_type": "code",
   "execution_count": null,
   "metadata": {
    "tags": []
   },
   "outputs": [],
   "source": []
  },
  {
   "cell_type": "markdown",
   "metadata": {},
   "source": [
    "Now lets use the class"
   ]
  },
  {
   "cell_type": "code",
   "execution_count": 16,
   "metadata": {},
   "outputs": [
    {
     "name": "stdout",
     "output_type": "stream",
     "text": [
      "John's diagnosis = None\n",
      "Mike Smith will admit patient John Miles\n",
      "Mike Smith will diagnose patient John Miles\n"
     ]
    }
   ],
   "source": [
    "print(\"John's diagnosis =\", john.show_diagnosis())\n",
    "mike = Doctor(\"Mike Smith\", \"Respiratory F1\")\n",
    "mike.admit_patient(john.name)\n",
    "john.update_diagnosis(mike.diagnose_patient(john.name, john.whats_wrong()))"
   ]
  },
  {
   "cell_type": "code",
   "execution_count": 17,
   "metadata": {},
   "outputs": [
    {
     "name": "stdout",
     "output_type": "stream",
     "text": [
      "John's diagnosis = Gall stones\n"
     ]
    }
   ],
   "source": [
    "print(\"John's diagnosis =\", john.show_diagnosis())"
   ]
  },
  {
   "cell_type": "markdown",
   "metadata": {},
   "source": [
    "Hopefully you can start to see how we could continue to build this up into a more complex and interconnected system that we could use to start modeling things and processes in real life. There are 4 main principles of OOP and these include:\n",
    "<ul>\n",
    "    <li><strong>Encapsulation:</strong> Storing the data and methods of an object such that they are invisible and inaccessible to unauthorized parties</li>\n",
    "    <li><strong>Abstraction:</strong> An abstract representation of a thing. The inner workings are hidden and are not essential to know in order to interact with the object</li>\n",
    "    <li><strong>Inheritance:</strong> Reusing and extending existing code to make something more specific. i.e. a <code>surgeon</code> may be based on a super class of <code>doctor</code> inheriting its methods and attributes and extending them with surgeon specific features</li>\n",
    "    <li><strong>Polymorphism:</strong> Used to process data differently depending on the input and redefine methods for a derived class </li>\n",
    "</ul>"
   ]
  },
  {
   "cell_type": "markdown",
   "metadata": {},
   "source": [
    "We have already been using <code>encapsulation</code> in the previous examples. But let's look at using <code>inheritance</code> with an example of making a surgeon from our doctor class. "
   ]
  },
  {
   "cell_type": "code",
   "execution_count": 18,
   "metadata": {
    "tags": []
   },
   "outputs": [],
   "source": [
    "class Surgeon(Doctor):\n",
    "    def do_brain_surgery(self, patient):        \n",
    "        print(self.name, \"will do a frontal lobectomy on patient\", patient)\n",
    "        self.process_patient()"
   ]
  },
  {
   "cell_type": "code",
   "execution_count": 19,
   "metadata": {},
   "outputs": [
    {
     "name": "stdout",
     "output_type": "stream",
     "text": [
      "Barry Anderton will admit patient John Miles\n",
      "Barry Anderton will do a frontal lobectomy on patient John Miles\n"
     ]
    }
   ],
   "source": [
    "barry = Surgeon(\"Barry Anderton\", \"Brain surgeon\")\n",
    "barry.admit_patient(john.name)\n",
    "barry.do_brain_surgery(john.name)"
   ]
  },
  {
   "cell_type": "markdown",
   "metadata": {},
   "source": [
    "As you can see, the new <code>Surgeon</code> class has all the functionally of our <code>Doctor</code> class but with the addition of a method that allows them to carry out a particular surgical procedure. This way we could continue to build up a series of doctors like radiologists, GP's and so on, all of which have the basic doctor functions with a role specific version unique to themselves. "
   ]
  },
  {
   "cell_type": "markdown",
   "metadata": {
    "solution2": "hidden",
    "solution2_first": true
   },
   "source": [
    "<div class=\"alert alert-block alert-info\">\n",
    "<b>Task 3:</b>\n",
    "<br> \n",
    "1. Create a <code>Radiologist</code> class that extends the <code>Doctor</code> class. Give them 2 methods:<br />\n",
    "2. <code>do_xray</code> and <code>do_MRI</code>.<br />\n",
    "3. Create 2 instances of the Radiologist class with each calling one of the 2 methods on <code>Jane</code> and <code>John</code>.\n",
    "</div>"
   ]
  },
  {
   "cell_type": "code",
   "execution_count": 20,
   "metadata": {
    "solution2": "hidden",
    "tags": []
   },
   "outputs": [],
   "source": [
    "class Radiologist(Doctor):\n",
    "    def do_xray(self, patient):\n",
    "        print(self.name, \"Will do an x-ray on patient\", patient)\n",
    "        self.process_patient()\n",
    "        \n",
    "    def do_MRI(self, patient):\n",
    "        print(self.name, \"Will do an MRI scan on patient\", patient)\n",
    "        self.process_patient()"
   ]
  },
  {
   "cell_type": "code",
   "execution_count": 22,
   "metadata": {
    "solution2": "hidden"
   },
   "outputs": [
    {
     "name": "stdout",
     "output_type": "stream",
     "text": [
      "Norman Sanders will admit patient Jane Smith\n",
      "Norman Sanders Will do an x-ray on patient Jane Smith\n",
      "Sarah Mullroy will admit patient John Miles\n",
      "Sarah Mullroy Will do an MRI scan on patient John Miles\n"
     ]
    }
   ],
   "source": [
    "norman = Radiologist(\"Norman Sanders\", \"Radiologist\")\n",
    "norman.admit_patient(jane.name)\n",
    "norman.do_xray(jane.name)\n",
    "\n",
    "sarah = Radiologist(\"Sarah Mullroy\", \"Radiologist\")\n",
    "sarah.admit_patient(john.name)\n",
    "sarah.do_MRI(john.name)"
   ]
  },
  {
   "cell_type": "code",
   "execution_count": null,
   "metadata": {
    "tags": []
   },
   "outputs": [],
   "source": []
  },
  {
   "cell_type": "code",
   "execution_count": null,
   "metadata": {
    "tags": []
   },
   "outputs": [],
   "source": []
  },
  {
   "cell_type": "markdown",
   "metadata": {},
   "source": [
    "<div class=\"alert alert-block alert-info\">\n",
    "<b>Task 4:</b>\n",
    "<br> \n",
    "1. Create a new class for another healthcare professional of your choice (i.e. Nurse, Paramedic, Physio, ...)<br />\n",
    "2. Think about what methods they might have and implement them<br />\n",
    "3. Test out your new class by making it interact with our existing <code>Doctor</code> and <code>Patient</code> classes.\n",
    "</div>"
   ]
  },
  {
   "cell_type": "code",
   "execution_count": null,
   "metadata": {
    "tags": []
   },
   "outputs": [],
   "source": []
  },
  {
   "cell_type": "code",
   "execution_count": null,
   "metadata": {},
   "outputs": [],
   "source": []
  },
  {
   "cell_type": "markdown",
   "metadata": {},
   "source": [
    "Class and object variables and methods"
   ]
  },
  {
   "cell_type": "markdown",
   "metadata": {},
   "source": [
    "Some variables can be for instances of a class as we saw previously. For this, we use the <code>self</code> keyword. For example, we could make a class to represent an ECG/EKG (electrocardiogram) machine. This could contain <code>instance attributes</code> to record the various intervals and waves. We can also include a <code>class attribute</code> that is class level to record the hospital that all these machines are located in. In the example below, we declare a variable called <code>hospital_name</code> without using self. To access this attribute we need to preceed it by the class name (e.g. <code>Electrocardiogram.hospital_name</code>. A class attribute can be shared by all objects of a class whereas an instance attribute is specific to a particular instance of a class and is defined in the constructor (__init__).  "
   ]
  },
  {
   "cell_type": "code",
   "execution_count": 10,
   "metadata": {},
   "outputs": [],
   "source": [
    "class Electrocardiogram:\n",
    "    hospital_name = \"King Edwards\"\n",
    "    def __init__(self):\n",
    "        self.pr_interval = 0\n",
    "        self.qt_interval = 0\n",
    "        self.qrs_interval = 0\n",
    "        self.p_wave = 0\n",
    "        self.q_wave = 0\n",
    "        self.r_wave = 0\n",
    "        \n",
    "    def get_hospital_name(self):\n",
    "        return Electrocardiogram.hospital_name"
   ]
  },
  {
   "cell_type": "code",
   "execution_count": 11,
   "metadata": {
    "tags": []
   },
   "outputs": [
    {
     "name": "stdout",
     "output_type": "stream",
     "text": [
      "Hospital name =  King Edwards\n"
     ]
    }
   ],
   "source": [
    "ECG_machine = Electrocardiogram()\n",
    "print(\"Hospital name = \",ECG_machine.get_hospital_name())"
   ]
  },
  {
   "cell_type": "markdown",
   "metadata": {},
   "source": [
    "For a more practical example, consider an XRay class that can perform different x-rays. Below we make 3 different x-rays; one of the foot, hip and spine. Each has thier own unique properties such as the name of the scan and when it was performed. The class attribute <code>count</code> is shared accross all instances so when we increment (add one to) this by one each time we make an instance of the XRay class, we can see a running total of how many scans have been performed."
   ]
  },
  {
   "cell_type": "code",
   "execution_count": 16,
   "metadata": {},
   "outputs": [],
   "source": [
    "class XRay:\n",
    "    count = 0\n",
    "    def __init__(self):\n",
    "        self.name = \"\"\n",
    "        self.date = \"\"\n",
    "        XRay.count += 1"
   ]
  },
  {
   "cell_type": "code",
   "execution_count": 17,
   "metadata": {},
   "outputs": [
    {
     "name": "stdout",
     "output_type": "stream",
     "text": [
      "Number of scans made =  3\n"
     ]
    }
   ],
   "source": [
    "foot_scan = XRay()\n",
    "foot_scan.name = \"Scan of lateral metatarsal\"\n",
    "foot_scan.date = \"13/04/2022\"\n",
    "\n",
    "spine_scan = XRay()\n",
    "spine_scan.name = \"Scan of cervical spine\"\n",
    "spine_scan.date = \"15/04/2022\"\n",
    "\n",
    "hip_scan = XRay()\n",
    "hip_scan.name = \"Scan of neck of femur\"\n",
    "hip_scan.date = \"11/06/2022\"\n",
    "\n",
    "print(\"Number of scans made = \", XRay.count)"
   ]
  },
  {
   "cell_type": "markdown",
   "metadata": {},
   "source": [
    "There are also methods that can be used at class level called <code>class methods</code>. This tends to be used in what we call <code>factory design patterns</code> where one wants to call methods with the class name as opposed to an object. "
   ]
  },
  {
   "cell_type": "markdown",
   "metadata": {},
   "source": [
    "<div class=\"alert alert-success\">\n",
    "<b>Note:</b> The factory design method is used to create concrete implementations of a common interface. You can read more about this <a href=\"https://realpython.com/factory-method-python/\" target=\"_blank\">here</a>.\n",
    "</div>"
   ]
  },
  {
   "cell_type": "markdown",
   "metadata": {},
   "source": [
    "We can also use the <code>dir</code> function to output all of a objects properties and methods. In the example below you can see the built in properties and the <code>count</code> attribute we added to the <code>XRay</code> class. "
   ]
  },
  {
   "cell_type": "code",
   "execution_count": 19,
   "metadata": {},
   "outputs": [
    {
     "data": {
      "text/plain": [
       "['__class__',\n",
       " '__delattr__',\n",
       " '__dict__',\n",
       " '__dir__',\n",
       " '__doc__',\n",
       " '__eq__',\n",
       " '__format__',\n",
       " '__ge__',\n",
       " '__getattribute__',\n",
       " '__gt__',\n",
       " '__hash__',\n",
       " '__init__',\n",
       " '__init_subclass__',\n",
       " '__le__',\n",
       " '__lt__',\n",
       " '__module__',\n",
       " '__ne__',\n",
       " '__new__',\n",
       " '__reduce__',\n",
       " '__reduce_ex__',\n",
       " '__repr__',\n",
       " '__setattr__',\n",
       " '__sizeof__',\n",
       " '__str__',\n",
       " '__subclasshook__',\n",
       " '__weakref__',\n",
       " 'count']"
      ]
     },
     "execution_count": 19,
     "metadata": {},
     "output_type": "execute_result"
    }
   ],
   "source": [
    "dir(XRay)"
   ]
  },
  {
   "cell_type": "markdown",
   "metadata": {},
   "source": [
    "Let's consider a very basic example of the factory design pattern. First we will create some simple classes to represent some hospital workers, such as a radiologist, physiotherapist and nurse. Each has a couple of attributes (their name and role). "
   ]
  },
  {
   "cell_type": "code",
   "execution_count": 21,
   "metadata": {},
   "outputs": [],
   "source": [
    "class Radiologist:\n",
    "    def __init__(self, name, role):\n",
    "        self.name = name\n",
    "        self.role = role\n",
    "        \n",
    "class Nurse:\n",
    "    def __init__(self, name, role):\n",
    "        self.name = name\n",
    "        self.role = role\n",
    "        \n",
    "class Physiotherapist:\n",
    "    def __init__(self, name, role):\n",
    "        self.name = name\n",
    "        self.role = role"
   ]
  },
  {
   "cell_type": "markdown",
   "metadata": {},
   "source": [
    "Next we can create a <code>workforce</code> class. The <code>create_worker</code> method takes in some arguments for the worker (their name and role) in a variable called <code>worker_args</code>. It also takes in a format (which must be called format). The internal <code>get_worker</code> method then calls the appropriate method (note the lack of perenthesis) to generate an instance of the required member of the workforce."
   ]
  },
  {
   "cell_type": "code",
   "execution_count": 70,
   "metadata": {},
   "outputs": [],
   "source": [
    "class Workforce:\n",
    "    def create_worker(self, format, worker_args):\n",
    "        worker = self.get_worker(format, worker_args)\n",
    "        return worker(worker_args)\n",
    "    \n",
    "    def get_worker(self, format, worker_args):\n",
    "        if format == 'radiologist':\n",
    "            return self.generate_radiologist\n",
    "        elif format == 'nurse':\n",
    "            return self.generate_nurse\n",
    "        elif format == 'physio':\n",
    "            return self.generate_physio\n",
    "        else:\n",
    "            raise ValueError(format)\n",
    "            \n",
    "    def generate_radiologist(self, worker_args):\n",
    "        return Radiologist(worker_args['name'], worker_args['role'])\n",
    "    \n",
    "    def generate_nurse(self, worker_args):\n",
    "        return Nurse(worker_args['name'], worker_args['role'])\n",
    "    \n",
    "    def generate_physio(self, worker_args):\n",
    "        return Physiotherapist(worker_args['name'], worker_args['role'])"
   ]
  },
  {
   "cell_type": "markdown",
   "metadata": {},
   "source": [
    "We can create some examples of a few nurses, a radiologist and a physiotherapist."
   ]
  },
  {
   "cell_type": "code",
   "execution_count": 72,
   "metadata": {},
   "outputs": [],
   "source": [
    "hospital_staff = Workforce()\n",
    "nurse_pam = hospital_staff.create_worker('nurse', {'name':'Pamella Stevens', 'role':'Band 5 staff nurse'})\n",
    "nurse_jackie = hospital_staff.create_worker('nurse', {'name':'Jackie Collins', 'role':'Band 6 sister'})\n",
    "nurse_norman = hospital_staff.create_worker('nurse', {'name':'Norman Cook', 'role':'Band 5 staff nurse'})\n",
    "radiologist_wang = hospital_staff.create_worker('radiologist', {'name':'Li Wang', 'role':'Radiologist'})\n",
    "phyio_andrews = hospital_staff.create_worker('physio', {'name':'Dean Andrews', 'role':'Physiotherapist'})"
   ]
  },
  {
   "cell_type": "markdown",
   "metadata": {},
   "source": [
    "If we output one at random, we can see the object."
   ]
  },
  {
   "cell_type": "code",
   "execution_count": 73,
   "metadata": {},
   "outputs": [
    {
     "name": "stdout",
     "output_type": "stream",
     "text": [
      "<__main__.Radiologist object at 0x0000028F7FB126A0>\n"
     ]
    }
   ],
   "source": [
    "print(radiologist_wang)"
   ]
  },
  {
   "cell_type": "markdown",
   "metadata": {},
   "source": [
    "We can also see the different values of the objects created. This method is used when a concrete interface is required. This makes code more maintainable and can cope with different use cases."
   ]
  },
  {
   "cell_type": "code",
   "execution_count": 76,
   "metadata": {},
   "outputs": [
    {
     "name": "stdout",
     "output_type": "stream",
     "text": [
      "Name: Pamella Stevens  Role: Band 5 staff nurse\n",
      "Name: Norman Cook  Role: Band 5 staff nurse\n",
      "Name: Dean Andrews  Role: Physiotherapist\n"
     ]
    }
   ],
   "source": [
    "print(\"Name:\", nurse_pam.name, \" Role:\", nurse_pam.role)\n",
    "print(\"Name:\", nurse_norman.name, \" Role:\", nurse_norman.role)\n",
    "print(\"Name:\", phyio_andrews.name, \" Role:\", phyio_andrews.role)"
   ]
  },
  {
   "cell_type": "markdown",
   "metadata": {},
   "source": [
    "Related to this is the <code>@classmethod</code> decorator. This can be used to declare a class method which can also interact with class level variables. It does this through the <code>cls</code> keyword to access class attributes instead of using <code>self</code> which is used to access instance attributes. We can modify our previous <code>XRay</code> class to use a class method to print out the number of scans produced, which are stored in the class attribute <code>count</code>."
   ]
  },
  {
   "cell_type": "code",
   "execution_count": 80,
   "metadata": {},
   "outputs": [],
   "source": [
    "class XRay:\n",
    "    count = 0\n",
    "    def __init__(self):\n",
    "        self.name = \"\"\n",
    "        self.date = \"\"\n",
    "        XRay.count += 1\n",
    "        \n",
    "    @classmethod\n",
    "    def display_number_of_xrays(cls):\n",
    "        print(\"Number of x-rays recorded = \", cls.count)"
   ]
  },
  {
   "cell_type": "code",
   "execution_count": 81,
   "metadata": {},
   "outputs": [
    {
     "name": "stdout",
     "output_type": "stream",
     "text": [
      "Number of x-rays recorded =  2\n"
     ]
    }
   ],
   "source": [
    "breast_scan = XRay()\n",
    "breast_scan.name = \"Mamogram\"\n",
    "breast_scan.date = \"18/02/2022\"\n",
    "\n",
    "heart_scan = XRay()\n",
    "heart_scan.name = \"Fluroscopy of coronary arteries\"\n",
    "heart_scan.date = \"18/02/2022\"\n",
    "\n",
    "breast_scan.display_number_of_xrays()"
   ]
  },
  {
   "cell_type": "markdown",
   "metadata": {},
   "source": [
    "<div class=\"alert alert-success\">\n",
    "<b>Note:</b> Using a class method with <code>cls</code> meas that we can avoid hard coding the name of the class, using <code>cls</code> instead. This makes the class more generic and therefore more usable.\n",
    "</div>"
   ]
  },
  {
   "cell_type": "markdown",
   "metadata": {},
   "source": [
    "Sometimes you may want a method that doesn't need to use the object itself for anything. This can be achived with <code>@staticmethod</code>. A static method can be used when there is no point in generating an unused <code>self</code> argument. It also has the advantage of being more resource efficient as a bound method (which is also an object) does not need to be created. Additionally the method is not dependent on the state of the object in anyway. "
   ]
  },
  {
   "cell_type": "markdown",
   "metadata": {},
   "source": [
    "For example we can create a pharmacy technician class that can prepare medications. This has a static method that just concatenates a number of chemicals together that are passed in to the <code>prepare_medication</code> method. The <code>create_compound</code> does not need to use any part of the object itself and so we can remove the redundent <code>self</code>. "
   ]
  },
  {
   "cell_type": "code",
   "execution_count": 109,
   "metadata": {},
   "outputs": [],
   "source": [
    "class PharmacyTechnician:\n",
    "    @staticmethod\n",
    "    def create_compound(args):\n",
    "        result = \"\"\n",
    "        for item in args:\n",
    "            result += item\n",
    "        return result\n",
    "    \n",
    "    def prepare_medication(self, *args):\n",
    "        return self.create_compound(args)"
   ]
  },
  {
   "cell_type": "code",
   "execution_count": 110,
   "metadata": {},
   "outputs": [
    {
     "name": "stdout",
     "output_type": "stream",
     "text": [
      "Prepare Soduim Chloride: NaCl\n"
     ]
    }
   ],
   "source": [
    "tech = PharmacyTechnician()\n",
    "print(\"Prepare Soduim Chloride:\", tech.prepare_medication(\"Na\", \"Cl\"))"
   ]
  },
  {
   "cell_type": "markdown",
   "metadata": {},
   "source": [
    "Below is how we would create this without the static method decorator reintorducing <code>self</code> in the method definition. "
   ]
  },
  {
   "cell_type": "code",
   "execution_count": 106,
   "metadata": {},
   "outputs": [
    {
     "name": "stdout",
     "output_type": "stream",
     "text": [
      "Prepare Soduim Chloride: NaCl\n"
     ]
    }
   ],
   "source": [
    "class PharmacyTechnician:\n",
    "    def create_compound(self, args):\n",
    "        result = \"\"\n",
    "        for item in args:\n",
    "            result += item\n",
    "        return result\n",
    "    \n",
    "    def prepare_medication(self, *args):\n",
    "        return self.create_compound(args)\n",
    "    \n",
    "tech = PharmacyTechnician()\n",
    "print(\"Prepare Soduim Chloride:\", tech.prepare_medication(\"Na\", \"Cl\"))"
   ]
  },
  {
   "cell_type": "markdown",
   "metadata": {},
   "source": [
    "These concepts can also be used together. Consider the following example that implements a simple calculator to determine the Mean Arterial Pressure (MAP). The MAP is the mean (average) blood pressure in an individual during a single cardiac cycle. A MAP of more than about 70 milimeteres of mercury (mmHG) is needed for the average person to perfuse their internal organs and stay alive. A simple way of calculating this is with this formula: $dia + 1/3(sys - dia)$ where $sys$ is the sytolic pressure and $dia$ is the diastolic pressure. "
   ]
  },
  {
   "cell_type": "code",
   "execution_count": 118,
   "metadata": {},
   "outputs": [],
   "source": [
    "class MeanArterialPressure:\n",
    "    def __init__(self, sys, dia):\n",
    "        self.sys = sys\n",
    "        self.dia = dia        \n",
    "        \n",
    "    @staticmethod\n",
    "    def compute_third(val):\n",
    "        return val/3\n",
    "    \n",
    "    @classmethod\n",
    "    def compute_map(cls, sys, dia):\n",
    "        return dia + cls.compute_third(sys - dia)\n",
    "    \n",
    "    def get_MAP(self):\n",
    "        return self.compute_map(self.sys, self.dia)"
   ]
  },
  {
   "cell_type": "code",
   "execution_count": 167,
   "metadata": {},
   "outputs": [
    {
     "name": "stdout",
     "output_type": "stream",
     "text": [
      "Mean arterial pressure when BP is 120/80 =  93.33333333333333 mmHg\n"
     ]
    }
   ],
   "source": [
    "bp = MeanArterialPressure(120, 80)\n",
    "print(\"Mean arterial pressure when BP is 120/80 = \", bp.get_MAP(), \"mmHg\")"
   ]
  },
  {
   "cell_type": "markdown",
   "metadata": {},
   "source": [
    "If you are familiar with other Object Oriented languages like Java or C++ for example you may have come accross this concept of <code>public</code> and <code>private</code> variables. For example as seen in the short snippet of Java code below where classes, methods and attributes can be set to either public or private. Typically, public members are accessible outside of a class whereas private ones are internal to a class. This supports the OPP concept of encapsulation where related data is encapsulated together. "
   ]
  },
  {
   "cell_type": "markdown",
   "metadata": {},
   "source": [
    "<code>\n",
    "import java.time.LocaldateTime;\n",
    "    \n",
    "private class SymptomLogger{\n",
    "    private int breathing;\n",
    "    private int cough;\n",
    "    private int pain;\n",
    "    private int LocalDateTime dateRecorded = LocalDateTime.now();\n",
    "    private String comment;\n",
    "    \n",
    "        public void logSymptom(int SymptomScore, int symptomType) {\n",
    "             ...\n",
    "        }\n",
    "        ...\n",
    "}\n",
    "</code>"
   ]
  },
  {
   "cell_type": "markdown",
   "metadata": {},
   "source": [
    "<div class=\"alert alert-success\">\n",
    "<b>Note:</b> In Python all members are public by defualt and accessible outside of a class.\n",
    "</div>"
   ]
  },
  {
   "cell_type": "markdown",
   "metadata": {},
   "source": [
    "Instead of making attributes and methods private, Python uses a convention instead to imply that a variable/attribute is protected/private using single and double underscores."
   ]
  },
  {
   "cell_type": "code",
   "execution_count": 122,
   "metadata": {},
   "outputs": [],
   "source": [
    "class Hospital:\n",
    "    def __init__(self, name, id_num, band):\n",
    "        self.hospital_name = name                # public attribute\n",
    "        self._internal_regional_id = id_num      # protected attribute\n",
    "        self.__profit_band = band                # private attribute"
   ]
  },
  {
   "cell_type": "code",
   "execution_count": 123,
   "metadata": {},
   "outputs": [],
   "source": [
    "my_hospital = Hospital(\"St Cuthberts\", \"234sj342ka4\", \"C\")"
   ]
  },
  {
   "cell_type": "markdown",
   "metadata": {},
   "source": [
    "You can see that the public and protected attributes are still accessible. The private attribute <code>__profit_band</code> however returns an <code>AttributeError</code>. Python uses something called <code>name mangling</code> which essentially replaces the dunder (double underscore) attribute with <code>_classname__identifier</code>, classname being the name of the current class."
   ]
  },
  {
   "cell_type": "code",
   "execution_count": 124,
   "metadata": {},
   "outputs": [
    {
     "name": "stdout",
     "output_type": "stream",
     "text": [
      "St Cuthberts\n",
      "234sj342ka4\n"
     ]
    },
    {
     "ename": "AttributeError",
     "evalue": "'Hospital' object has no attribute '__profit_band'",
     "output_type": "error",
     "traceback": [
      "\u001b[1;31m---------------------------------------------------------------------------\u001b[0m",
      "\u001b[1;31mAttributeError\u001b[0m                            Traceback (most recent call last)",
      "\u001b[1;32mC:\\Users\\ALAN_D~1\\AppData\\Local\\Temp/ipykernel_20372/3511859788.py\u001b[0m in \u001b[0;36m<module>\u001b[1;34m\u001b[0m\n\u001b[0;32m      1\u001b[0m \u001b[0mprint\u001b[0m\u001b[1;33m(\u001b[0m\u001b[0mmy_hospital\u001b[0m\u001b[1;33m.\u001b[0m\u001b[0mhospital_name\u001b[0m\u001b[1;33m)\u001b[0m\u001b[1;33m\u001b[0m\u001b[1;33m\u001b[0m\u001b[0m\n\u001b[0;32m      2\u001b[0m \u001b[0mprint\u001b[0m\u001b[1;33m(\u001b[0m\u001b[0mmy_hospital\u001b[0m\u001b[1;33m.\u001b[0m\u001b[0m_internal_regional_id\u001b[0m\u001b[1;33m)\u001b[0m\u001b[1;33m\u001b[0m\u001b[1;33m\u001b[0m\u001b[0m\n\u001b[1;32m----> 3\u001b[1;33m \u001b[0mprint\u001b[0m\u001b[1;33m(\u001b[0m\u001b[0mmy_hospital\u001b[0m\u001b[1;33m.\u001b[0m\u001b[0m__profit_band\u001b[0m\u001b[1;33m)\u001b[0m\u001b[1;33m\u001b[0m\u001b[1;33m\u001b[0m\u001b[0m\n\u001b[0m",
      "\u001b[1;31mAttributeError\u001b[0m: 'Hospital' object has no attribute '__profit_band'"
     ]
    }
   ],
   "source": [
    "print(my_hospital.hospital_name)\n",
    "print(my_hospital._internal_regional_id)\n",
    "print(my_hospital.__profit_band)"
   ]
  },
  {
   "cell_type": "markdown",
   "metadata": {},
   "source": [
    "This can still be accessed however as shown below, so its not truely private. "
   ]
  },
  {
   "cell_type": "code",
   "execution_count": 128,
   "metadata": {},
   "outputs": [
    {
     "name": "stdout",
     "output_type": "stream",
     "text": [
      "C\n"
     ]
    }
   ],
   "source": [
    "print(my_hospital._Hospital__profit_band)"
   ]
  },
  {
   "cell_type": "markdown",
   "metadata": {},
   "source": [
    "<div class=\"alert alert-success\">\n",
    "<b>Note:</b> On the topic of using underscores for naming conventions, an underscore at the end of a variable/attribute can be used when a variable name is already in use as a keyword and you still want to use the name because its the most appropriate e.g. you can't use <code>id</code> as its taken so you could use <code>id_</code> instead. \n",
    "</div>"
   ]
  },
  {
   "cell_type": "markdown",
   "metadata": {},
   "source": [
    "Another decorator that can be used for properties of a class is the <code>@property</code> decorator which has to return a properties value. For example:"
   ]
  },
  {
   "cell_type": "code",
   "execution_count": 129,
   "metadata": {},
   "outputs": [],
   "source": [
    "class Hospital:\n",
    "    def __init__(self, name, id_num, band):\n",
    "        self.hospital_name = name                # public attribute\n",
    "        self._internal_regional_id = id_num      # protected attribute\n",
    "        self.__profit_band = band                # private attribute\n",
    "        \n",
    "    @property\n",
    "    def profit_band(self):\n",
    "        return self.__profit_band"
   ]
  },
  {
   "cell_type": "code",
   "execution_count": 130,
   "metadata": {},
   "outputs": [
    {
     "name": "stdout",
     "output_type": "stream",
     "text": [
      "Profit band =  B\n"
     ]
    }
   ],
   "source": [
    "new_hospital = Hospital(\"Good Hope\", \"654kh24hs32\", \"B\")\n",
    "print(\"Profit band = \", new_hospital.profit_band)"
   ]
  },
  {
   "cell_type": "markdown",
   "metadata": {},
   "source": [
    "This works like accessing the attribute directly but controls access to the attribute through the method we determine and returns the private attribue <code>profit_band</code>. "
   ]
  },
  {
   "cell_type": "markdown",
   "metadata": {},
   "source": [
    "String representations of objects"
   ]
  },
  {
   "cell_type": "markdown",
   "metadata": {},
   "source": [
    "It is often useful to represent an object with a string. If we create a simple class in the usual way:"
   ]
  },
  {
   "cell_type": "code",
   "execution_count": 132,
   "metadata": {},
   "outputs": [],
   "source": [
    "class Paramedic:\n",
    "    def __init__(self, name, role, id_number):\n",
    "        self.name = name\n",
    "        self.role = role\n",
    "        self.id_num = id_number"
   ]
  },
  {
   "cell_type": "markdown",
   "metadata": {},
   "source": [
    "We can then make an instance of this class. In this case a paramedic called Pawel. "
   ]
  },
  {
   "cell_type": "code",
   "execution_count": 133,
   "metadata": {},
   "outputs": [],
   "source": [
    "pawel_karwowski = Paramedic(\"Pawel Karwowski\", \"Paramedic technician\", \"12426432\")"
   ]
  },
  {
   "cell_type": "markdown",
   "metadata": {},
   "source": [
    "If we print this, we get the name of the class and its memory location. We often then have to use the print function to display the various values of the object. There is in fact a couple of built in methods (a convention) for doing this in Python using <code>__repr__</code> and/or <code>__str__</code>."
   ]
  },
  {
   "cell_type": "code",
   "execution_count": 134,
   "metadata": {},
   "outputs": [
    {
     "name": "stdout",
     "output_type": "stream",
     "text": [
      "<__main__.Paramedic object at 0x0000028F7FB29370>\n"
     ]
    }
   ],
   "source": [
    "print(pawel_karwowski)"
   ]
  },
  {
   "cell_type": "code",
   "execution_count": 163,
   "metadata": {},
   "outputs": [],
   "source": [
    "class Paramedic:\n",
    "    def __init__(self, name, role, id_number):\n",
    "        self.name = name\n",
    "        self.role = role\n",
    "        self.id_num = id_number\n",
    "        \n",
    "    def __repr__(self):\n",
    "        return f'Paramedic(\"{self.name}\",\"{self.role}\",\"{self.id_num}\")'\n",
    "    \n",
    "    def __str__(self):\n",
    "        return f'(\"{self.name}\",\"{self.role}\",\"{self.id_num}\")'"
   ]
  },
  {
   "cell_type": "code",
   "execution_count": 164,
   "metadata": {},
   "outputs": [],
   "source": [
    "pawel_karwowski = Paramedic(\"Pawel Karwowski\", \"Paramedic technician\", \"12426432\")"
   ]
  },
  {
   "cell_type": "code",
   "execution_count": 165,
   "metadata": {},
   "outputs": [
    {
     "name": "stdout",
     "output_type": "stream",
     "text": [
      "Paramedic(\"Pawel Karwowski\",\"Paramedic technician\",\"12426432\")\n"
     ]
    }
   ],
   "source": [
    "print(repr(pawel_karwowski))"
   ]
  },
  {
   "cell_type": "code",
   "execution_count": 166,
   "metadata": {},
   "outputs": [
    {
     "name": "stdout",
     "output_type": "stream",
     "text": [
      "(\"Pawel Karwowski\",\"Paramedic technician\",\"12426432\")\n"
     ]
    }
   ],
   "source": [
    "print(pawel_karwowski)"
   ]
  },
  {
   "cell_type": "markdown",
   "metadata": {},
   "source": [
    "<div class=\"alert alert-success\">\n",
    "<b>Note:</b> We could have also written the <code>__repr__</code> and <code>__str__</code> statements like this: <code>return 'Paramedic(' + self.name + ',' + str(self.role) + ',' + str(self.id_num) + ')'</code>.\n",
    "</div>"
   ]
  },
  {
   "cell_type": "markdown",
   "metadata": {},
   "source": [
    "The reson there exist two diffrent ways of doing this is that the <code>__str__</code> method is a more human readable version whereas the <code>__repr__</code> method is more machine readable and often used for both debugging and development. "
   ]
  },
  {
   "cell_type": "markdown",
   "metadata": {},
   "source": [
    "### Notebook details\n",
    "<br>\n",
    "<i>Notebook created by <strong>Dr. Alan Davies</strong>.\n",
    "<br>\n",
    "&copy; Alan Davies 2022"
   ]
  },
  {
   "cell_type": "markdown",
   "metadata": {},
   "source": [
    "## Notes:"
   ]
  },
  {
   "cell_type": "code",
   "execution_count": null,
   "metadata": {},
   "outputs": [],
   "source": []
  },
  {
   "cell_type": "code",
   "execution_count": null,
   "metadata": {},
   "outputs": [],
   "source": []
  },
  {
   "cell_type": "code",
   "execution_count": null,
   "metadata": {},
   "outputs": [],
   "source": []
  },
  {
   "cell_type": "code",
   "execution_count": 1,
   "metadata": {
    "scrolled": true
   },
   "outputs": [
    {
     "data": {
      "text/html": [
       "<style>\n",
       "div.accessibility {    \n",
       "    background-color: #DDC4DE;\n",
       "    border-color: #8D398F;\n",
       "    border-left: 5px solid #8D398F;\n",
       "    padding: 0.5em;\n",
       "}\n",
       "</style>"
      ],
      "text/plain": [
       "<IPython.core.display.HTML object>"
      ]
     },
     "execution_count": 1,
     "metadata": {},
     "output_type": "execute_result"
    }
   ],
   "source": [
    "#This cell maintains the accessibility of the notebook content.\n",
    "from IPython.core.display import HTML\n",
    "def css_styling():\n",
    "    styles = open(\"./styles/custom.css\", \"r\").read()\n",
    "    return HTML(styles)\n",
    "css_styling()"
   ]
  },
  {
   "cell_type": "code",
   "execution_count": null,
   "metadata": {},
   "outputs": [],
   "source": []
  }
 ],
 "metadata": {
  "hide_input": false,
  "kernelspec": {
   "display_name": "Python 3 (ipykernel)",
   "language": "python",
   "name": "python3"
  },
  "language_info": {
   "codemirror_mode": {
    "name": "ipython",
    "version": 3
   },
   "file_extension": ".py",
   "mimetype": "text/x-python",
   "name": "python",
   "nbconvert_exporter": "python",
   "pygments_lexer": "ipython3",
   "version": "3.9.12"
  }
 },
 "nbformat": 4,
 "nbformat_minor": 4
}
